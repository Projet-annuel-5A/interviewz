{
 "cells": [
  {
   "cell_type": "code",
   "id": "ff99b66f3fe989d0",
   "metadata": {
    "collapsed": true,
    "ExecuteTime": {
     "end_time": "2024-05-19T13:03:26.091274Z",
     "start_time": "2024-05-19T13:03:26.087764Z"
    }
   },
   "source": "import pandas as pd",
   "outputs": [],
   "execution_count": 10
  },
  {
   "metadata": {
    "ExecuteTime": {
     "end_time": "2024-05-19T13:41:32.973841Z",
     "start_time": "2024-05-19T13:41:32.971399Z"
    }
   },
   "cell_type": "code",
   "source": "results_path = '../files/1/2/output/results_speaker_000.h5'",
   "id": "9ffda87e0a8fdb9f",
   "outputs": [],
   "execution_count": 13
  },
  {
   "metadata": {
    "ExecuteTime": {
     "end_time": "2024-05-19T13:41:39.270694Z",
     "start_time": "2024-05-19T13:41:39.256094Z"
    }
   },
   "cell_type": "code",
   "source": [
    "audio = pd.read_hdf(results_path, key='audio')\n",
    "video = pd.read_hdf(results_path, key='video')\n",
    "texts = pd.read_hdf(results_path, key='text')\n",
    "\n",
    "all = pd.read_hdf(results_path, key='all')"
   ],
   "id": "c3e9b598d81d3ed9",
   "outputs": [],
   "execution_count": 14
  },
  {
   "metadata": {
    "ExecuteTime": {
     "end_time": "2024-05-19T13:41:41.035307Z",
     "start_time": "2024-05-19T13:41:41.029567Z"
    }
   },
   "cell_type": "code",
   "source": "audio",
   "id": "9af5a5e94c799799",
   "outputs": [
    {
     "data": {
      "text/plain": [
       "       speaker        file                                     audio_emotions\n",
       "0  speaker_000  part_00000  {'Neutral': 99.99698, 'Pleased': 0.00159, 'Ten...\n",
       "1  speaker_000  part_00001  {'Neutral': 99.99791, 'Tension': 0.00158, 'Sad...\n",
       "2  speaker_000  part_00002  {'Neutral': 99.9974, 'Tension': 0.00098, 'Plea...\n",
       "3  speaker_000  part_00003  {'Pleased': 39.88174, 'Neutral': 29.80253, 'Te...\n",
       "4  speaker_000  part_00004  {'Neutral': 99.99499, 'Tension': 0.00197, 'Ple...\n",
       "5  speaker_000  part_00005  {'Neutral': 99.99483, 'Tension': 0.00274, 'Ple..."
      ],
      "text/html": [
       "<div>\n",
       "<style scoped>\n",
       "    .dataframe tbody tr th:only-of-type {\n",
       "        vertical-align: middle;\n",
       "    }\n",
       "\n",
       "    .dataframe tbody tr th {\n",
       "        vertical-align: top;\n",
       "    }\n",
       "\n",
       "    .dataframe thead th {\n",
       "        text-align: right;\n",
       "    }\n",
       "</style>\n",
       "<table border=\"1\" class=\"dataframe\">\n",
       "  <thead>\n",
       "    <tr style=\"text-align: right;\">\n",
       "      <th></th>\n",
       "      <th>speaker</th>\n",
       "      <th>file</th>\n",
       "      <th>audio_emotions</th>\n",
       "    </tr>\n",
       "  </thead>\n",
       "  <tbody>\n",
       "    <tr>\n",
       "      <th>0</th>\n",
       "      <td>speaker_000</td>\n",
       "      <td>part_00000</td>\n",
       "      <td>{'Neutral': 99.99698, 'Pleased': 0.00159, 'Ten...</td>\n",
       "    </tr>\n",
       "    <tr>\n",
       "      <th>1</th>\n",
       "      <td>speaker_000</td>\n",
       "      <td>part_00001</td>\n",
       "      <td>{'Neutral': 99.99791, 'Tension': 0.00158, 'Sad...</td>\n",
       "    </tr>\n",
       "    <tr>\n",
       "      <th>2</th>\n",
       "      <td>speaker_000</td>\n",
       "      <td>part_00002</td>\n",
       "      <td>{'Neutral': 99.9974, 'Tension': 0.00098, 'Plea...</td>\n",
       "    </tr>\n",
       "    <tr>\n",
       "      <th>3</th>\n",
       "      <td>speaker_000</td>\n",
       "      <td>part_00003</td>\n",
       "      <td>{'Pleased': 39.88174, 'Neutral': 29.80253, 'Te...</td>\n",
       "    </tr>\n",
       "    <tr>\n",
       "      <th>4</th>\n",
       "      <td>speaker_000</td>\n",
       "      <td>part_00004</td>\n",
       "      <td>{'Neutral': 99.99499, 'Tension': 0.00197, 'Ple...</td>\n",
       "    </tr>\n",
       "    <tr>\n",
       "      <th>5</th>\n",
       "      <td>speaker_000</td>\n",
       "      <td>part_00005</td>\n",
       "      <td>{'Neutral': 99.99483, 'Tension': 0.00274, 'Ple...</td>\n",
       "    </tr>\n",
       "  </tbody>\n",
       "</table>\n",
       "</div>"
      ]
     },
     "execution_count": 15,
     "metadata": {},
     "output_type": "execute_result"
    }
   ],
   "execution_count": 15
  },
  {
   "metadata": {
    "ExecuteTime": {
     "end_time": "2024-05-19T13:41:43.197597Z",
     "start_time": "2024-05-19T13:41:43.186422Z"
    }
   },
   "cell_type": "code",
   "source": "video",
   "id": "33d6fdc64ca59f87",
   "outputs": [
    {
     "data": {
      "text/plain": [
       "       speaker        file                                     video_emotions\n",
       "0  speaker_000  part_00000  {'image_00000': {'happy': 28.624803903745573, ...\n",
       "1  speaker_000  part_00001  {'image_00000': {'happy': 37.14270680487257, '...\n",
       "2  speaker_000  part_00002  {'image_00000': {'neutral': 33.59819541972792,...\n",
       "3  speaker_000  part_00003  {'image_00000': {'happy': 31.35605478699991, '...\n",
       "4  speaker_000  part_00004  {'image_00000': {'happy': 34.22149120032651, '...\n",
       "5  speaker_000  part_00005  {'image_00000': {'neutral': 38.01115437749613,..."
      ],
      "text/html": [
       "<div>\n",
       "<style scoped>\n",
       "    .dataframe tbody tr th:only-of-type {\n",
       "        vertical-align: middle;\n",
       "    }\n",
       "\n",
       "    .dataframe tbody tr th {\n",
       "        vertical-align: top;\n",
       "    }\n",
       "\n",
       "    .dataframe thead th {\n",
       "        text-align: right;\n",
       "    }\n",
       "</style>\n",
       "<table border=\"1\" class=\"dataframe\">\n",
       "  <thead>\n",
       "    <tr style=\"text-align: right;\">\n",
       "      <th></th>\n",
       "      <th>speaker</th>\n",
       "      <th>file</th>\n",
       "      <th>video_emotions</th>\n",
       "    </tr>\n",
       "  </thead>\n",
       "  <tbody>\n",
       "    <tr>\n",
       "      <th>0</th>\n",
       "      <td>speaker_000</td>\n",
       "      <td>part_00000</td>\n",
       "      <td>{'image_00000': {'happy': 28.624803903745573, ...</td>\n",
       "    </tr>\n",
       "    <tr>\n",
       "      <th>1</th>\n",
       "      <td>speaker_000</td>\n",
       "      <td>part_00001</td>\n",
       "      <td>{'image_00000': {'happy': 37.14270680487257, '...</td>\n",
       "    </tr>\n",
       "    <tr>\n",
       "      <th>2</th>\n",
       "      <td>speaker_000</td>\n",
       "      <td>part_00002</td>\n",
       "      <td>{'image_00000': {'neutral': 33.59819541972792,...</td>\n",
       "    </tr>\n",
       "    <tr>\n",
       "      <th>3</th>\n",
       "      <td>speaker_000</td>\n",
       "      <td>part_00003</td>\n",
       "      <td>{'image_00000': {'happy': 31.35605478699991, '...</td>\n",
       "    </tr>\n",
       "    <tr>\n",
       "      <th>4</th>\n",
       "      <td>speaker_000</td>\n",
       "      <td>part_00004</td>\n",
       "      <td>{'image_00000': {'happy': 34.22149120032651, '...</td>\n",
       "    </tr>\n",
       "    <tr>\n",
       "      <th>5</th>\n",
       "      <td>speaker_000</td>\n",
       "      <td>part_00005</td>\n",
       "      <td>{'image_00000': {'neutral': 38.01115437749613,...</td>\n",
       "    </tr>\n",
       "  </tbody>\n",
       "</table>\n",
       "</div>"
      ]
     },
     "execution_count": 16,
     "metadata": {},
     "output_type": "execute_result"
    }
   ],
   "execution_count": 16
  },
  {
   "metadata": {
    "ExecuteTime": {
     "end_time": "2024-05-19T13:41:45.308226Z",
     "start_time": "2024-05-19T13:41:45.301277Z"
    }
   },
   "cell_type": "code",
   "source": "texts",
   "id": "15c72f7a88583e36",
   "outputs": [
    {
     "data": {
      "text/plain": [
       "       speaker        file                                               text  \\\n",
       "0  speaker_000  part_00000  Première question qu'on nous a énormément posé...   \n",
       "1  speaker_000  part_00001                                    premier jour de   \n",
       "2  speaker_000  part_00002  Donc moi, je travaille dans cette entreprise d...   \n",
       "3  speaker_000  part_00003  Toi aussi, c'est tes goûts. Oui, moi aussi, j'...   \n",
       "4  speaker_000  part_00004  Et donc, oui, on s'est rencontrés comme 14% de...   \n",
       "5  speaker_000  part_00005  faible. Mais en fait, je me suis un peu rensei...   \n",
       "\n",
       "                                       text_emotions  \n",
       "0  {'curiosity': 0.07742, 'boredom': 0.00286, 'gu...  \n",
       "1  {'surprise': 60.70628, 'optimism': 41.44753, '...  \n",
       "2  {'boredom': 1.59112, 'love': 1.52536, 'curiosi...  \n",
       "3  {'approval': 99.99627, 'admiration': 96.64248,...  \n",
       "4  {'optimism': 3.05692, 'approval': 0.63876, 'am...  \n",
       "5  {'curiosity': 95.73168, 'doubt': 0.09374, 'bor...  "
      ],
      "text/html": [
       "<div>\n",
       "<style scoped>\n",
       "    .dataframe tbody tr th:only-of-type {\n",
       "        vertical-align: middle;\n",
       "    }\n",
       "\n",
       "    .dataframe tbody tr th {\n",
       "        vertical-align: top;\n",
       "    }\n",
       "\n",
       "    .dataframe thead th {\n",
       "        text-align: right;\n",
       "    }\n",
       "</style>\n",
       "<table border=\"1\" class=\"dataframe\">\n",
       "  <thead>\n",
       "    <tr style=\"text-align: right;\">\n",
       "      <th></th>\n",
       "      <th>speaker</th>\n",
       "      <th>file</th>\n",
       "      <th>text</th>\n",
       "      <th>text_emotions</th>\n",
       "    </tr>\n",
       "  </thead>\n",
       "  <tbody>\n",
       "    <tr>\n",
       "      <th>0</th>\n",
       "      <td>speaker_000</td>\n",
       "      <td>part_00000</td>\n",
       "      <td>Première question qu'on nous a énormément posé...</td>\n",
       "      <td>{'curiosity': 0.07742, 'boredom': 0.00286, 'gu...</td>\n",
       "    </tr>\n",
       "    <tr>\n",
       "      <th>1</th>\n",
       "      <td>speaker_000</td>\n",
       "      <td>part_00001</td>\n",
       "      <td>premier jour de</td>\n",
       "      <td>{'surprise': 60.70628, 'optimism': 41.44753, '...</td>\n",
       "    </tr>\n",
       "    <tr>\n",
       "      <th>2</th>\n",
       "      <td>speaker_000</td>\n",
       "      <td>part_00002</td>\n",
       "      <td>Donc moi, je travaille dans cette entreprise d...</td>\n",
       "      <td>{'boredom': 1.59112, 'love': 1.52536, 'curiosi...</td>\n",
       "    </tr>\n",
       "    <tr>\n",
       "      <th>3</th>\n",
       "      <td>speaker_000</td>\n",
       "      <td>part_00003</td>\n",
       "      <td>Toi aussi, c'est tes goûts. Oui, moi aussi, j'...</td>\n",
       "      <td>{'approval': 99.99627, 'admiration': 96.64248,...</td>\n",
       "    </tr>\n",
       "    <tr>\n",
       "      <th>4</th>\n",
       "      <td>speaker_000</td>\n",
       "      <td>part_00004</td>\n",
       "      <td>Et donc, oui, on s'est rencontrés comme 14% de...</td>\n",
       "      <td>{'optimism': 3.05692, 'approval': 0.63876, 'am...</td>\n",
       "    </tr>\n",
       "    <tr>\n",
       "      <th>5</th>\n",
       "      <td>speaker_000</td>\n",
       "      <td>part_00005</td>\n",
       "      <td>faible. Mais en fait, je me suis un peu rensei...</td>\n",
       "      <td>{'curiosity': 95.73168, 'doubt': 0.09374, 'bor...</td>\n",
       "    </tr>\n",
       "  </tbody>\n",
       "</table>\n",
       "</div>"
      ]
     },
     "execution_count": 17,
     "metadata": {},
     "output_type": "execute_result"
    }
   ],
   "execution_count": 17
  },
  {
   "metadata": {
    "ExecuteTime": {
     "end_time": "2024-05-19T13:41:47.317567Z",
     "start_time": "2024-05-19T13:41:47.303897Z"
    }
   },
   "cell_type": "code",
   "source": "all",
   "id": "cdb49a11180947f1",
   "outputs": [
    {
     "data": {
      "text/plain": [
       "       speaker        file                                               text  \\\n",
       "0  speaker_000  part_00000  Première question qu'on nous a énormément posé...   \n",
       "1  speaker_000  part_00001                                    premier jour de   \n",
       "2  speaker_000  part_00002  Donc moi, je travaille dans cette entreprise d...   \n",
       "3  speaker_000  part_00003  Toi aussi, c'est tes goûts. Oui, moi aussi, j'...   \n",
       "4  speaker_000  part_00004  Et donc, oui, on s'est rencontrés comme 14% de...   \n",
       "5  speaker_000  part_00005  faible. Mais en fait, je me suis un peu rensei...   \n",
       "\n",
       "                                       text_emotions  \\\n",
       "0  {'curiosity': 0.07742, 'boredom': 0.00286, 'gu...   \n",
       "1  {'surprise': 60.70628, 'optimism': 41.44753, '...   \n",
       "2  {'boredom': 1.59112, 'love': 1.52536, 'curiosi...   \n",
       "3  {'approval': 99.99627, 'admiration': 96.64248,...   \n",
       "4  {'optimism': 3.05692, 'approval': 0.63876, 'am...   \n",
       "5  {'curiosity': 95.73168, 'doubt': 0.09374, 'bor...   \n",
       "\n",
       "                                      video_emotions  \\\n",
       "0  {'image_00000': {'happy': 28.624803903745573, ...   \n",
       "1  {'image_00000': {'happy': 37.14270680487257, '...   \n",
       "2  {'image_00000': {'neutral': 33.59819541972792,...   \n",
       "3  {'image_00000': {'happy': 31.35605478699991, '...   \n",
       "4  {'image_00000': {'happy': 34.22149120032651, '...   \n",
       "5  {'image_00000': {'neutral': 38.01115437749613,...   \n",
       "\n",
       "                                      audio_emotions  \n",
       "0  {'Neutral': 99.99698, 'Pleased': 0.00159, 'Ten...  \n",
       "1  {'Neutral': 99.99791, 'Tension': 0.00158, 'Sad...  \n",
       "2  {'Neutral': 99.9974, 'Tension': 0.00098, 'Plea...  \n",
       "3  {'Pleased': 39.88174, 'Neutral': 29.80253, 'Te...  \n",
       "4  {'Neutral': 99.99499, 'Tension': 0.00197, 'Ple...  \n",
       "5  {'Neutral': 99.99483, 'Tension': 0.00274, 'Ple...  "
      ],
      "text/html": [
       "<div>\n",
       "<style scoped>\n",
       "    .dataframe tbody tr th:only-of-type {\n",
       "        vertical-align: middle;\n",
       "    }\n",
       "\n",
       "    .dataframe tbody tr th {\n",
       "        vertical-align: top;\n",
       "    }\n",
       "\n",
       "    .dataframe thead th {\n",
       "        text-align: right;\n",
       "    }\n",
       "</style>\n",
       "<table border=\"1\" class=\"dataframe\">\n",
       "  <thead>\n",
       "    <tr style=\"text-align: right;\">\n",
       "      <th></th>\n",
       "      <th>speaker</th>\n",
       "      <th>file</th>\n",
       "      <th>text</th>\n",
       "      <th>text_emotions</th>\n",
       "      <th>video_emotions</th>\n",
       "      <th>audio_emotions</th>\n",
       "    </tr>\n",
       "  </thead>\n",
       "  <tbody>\n",
       "    <tr>\n",
       "      <th>0</th>\n",
       "      <td>speaker_000</td>\n",
       "      <td>part_00000</td>\n",
       "      <td>Première question qu'on nous a énormément posé...</td>\n",
       "      <td>{'curiosity': 0.07742, 'boredom': 0.00286, 'gu...</td>\n",
       "      <td>{'image_00000': {'happy': 28.624803903745573, ...</td>\n",
       "      <td>{'Neutral': 99.99698, 'Pleased': 0.00159, 'Ten...</td>\n",
       "    </tr>\n",
       "    <tr>\n",
       "      <th>1</th>\n",
       "      <td>speaker_000</td>\n",
       "      <td>part_00001</td>\n",
       "      <td>premier jour de</td>\n",
       "      <td>{'surprise': 60.70628, 'optimism': 41.44753, '...</td>\n",
       "      <td>{'image_00000': {'happy': 37.14270680487257, '...</td>\n",
       "      <td>{'Neutral': 99.99791, 'Tension': 0.00158, 'Sad...</td>\n",
       "    </tr>\n",
       "    <tr>\n",
       "      <th>2</th>\n",
       "      <td>speaker_000</td>\n",
       "      <td>part_00002</td>\n",
       "      <td>Donc moi, je travaille dans cette entreprise d...</td>\n",
       "      <td>{'boredom': 1.59112, 'love': 1.52536, 'curiosi...</td>\n",
       "      <td>{'image_00000': {'neutral': 33.59819541972792,...</td>\n",
       "      <td>{'Neutral': 99.9974, 'Tension': 0.00098, 'Plea...</td>\n",
       "    </tr>\n",
       "    <tr>\n",
       "      <th>3</th>\n",
       "      <td>speaker_000</td>\n",
       "      <td>part_00003</td>\n",
       "      <td>Toi aussi, c'est tes goûts. Oui, moi aussi, j'...</td>\n",
       "      <td>{'approval': 99.99627, 'admiration': 96.64248,...</td>\n",
       "      <td>{'image_00000': {'happy': 31.35605478699991, '...</td>\n",
       "      <td>{'Pleased': 39.88174, 'Neutral': 29.80253, 'Te...</td>\n",
       "    </tr>\n",
       "    <tr>\n",
       "      <th>4</th>\n",
       "      <td>speaker_000</td>\n",
       "      <td>part_00004</td>\n",
       "      <td>Et donc, oui, on s'est rencontrés comme 14% de...</td>\n",
       "      <td>{'optimism': 3.05692, 'approval': 0.63876, 'am...</td>\n",
       "      <td>{'image_00000': {'happy': 34.22149120032651, '...</td>\n",
       "      <td>{'Neutral': 99.99499, 'Tension': 0.00197, 'Ple...</td>\n",
       "    </tr>\n",
       "    <tr>\n",
       "      <th>5</th>\n",
       "      <td>speaker_000</td>\n",
       "      <td>part_00005</td>\n",
       "      <td>faible. Mais en fait, je me suis un peu rensei...</td>\n",
       "      <td>{'curiosity': 95.73168, 'doubt': 0.09374, 'bor...</td>\n",
       "      <td>{'image_00000': {'neutral': 38.01115437749613,...</td>\n",
       "      <td>{'Neutral': 99.99483, 'Tension': 0.00274, 'Ple...</td>\n",
       "    </tr>\n",
       "  </tbody>\n",
       "</table>\n",
       "</div>"
      ]
     },
     "execution_count": 18,
     "metadata": {},
     "output_type": "execute_result"
    }
   ],
   "execution_count": 18
  },
  {
   "metadata": {
    "ExecuteTime": {
     "end_time": "2024-05-19T13:43:32.188538Z",
     "start_time": "2024-05-19T13:43:32.184959Z"
    }
   },
   "cell_type": "code",
   "source": "all.loc[2]['text']",
   "id": "f6ce04c6f9c75000",
   "outputs": [
    {
     "data": {
      "text/plain": [
       "\"Donc moi, je travaille dans cette entreprise depuis déjà un ou deux ans. Et voilà, quand Mathieu est arrivé, au début, on ne s'est pas spécialement parlé. Il n'y a pas plus que ça. Et c'est vrai que quelques années plus tard, on a commencé un peu à se rapprocher, à discuter. On parlait de sujets qui nous passionnent tous les deux. C'est vrai qu'on aimait beaucoup une émission qui s'appelle\""
      ]
     },
     "execution_count": 27,
     "metadata": {},
     "output_type": "execute_result"
    }
   ],
   "execution_count": 27
  }
 ],
 "metadata": {
  "kernelspec": {
   "display_name": "Python 3",
   "language": "python",
   "name": "python3"
  },
  "language_info": {
   "codemirror_mode": {
    "name": "ipython",
    "version": 2
   },
   "file_extension": ".py",
   "mimetype": "text/x-python",
   "name": "python",
   "nbconvert_exporter": "python",
   "pygments_lexer": "ipython2",
   "version": "2.7.6"
  }
 },
 "nbformat": 4,
 "nbformat_minor": 5
}
