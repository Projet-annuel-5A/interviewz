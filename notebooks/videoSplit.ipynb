{
 "cells": [
  {
   "cell_type": "code",
   "id": "initial_id",
   "metadata": {
    "collapsed": true,
    "ExecuteTime": {
     "end_time": "2024-05-14T10:26:18.296678Z",
     "start_time": "2024-05-14T10:26:18.294209Z"
    }
   },
   "source": [
    "import cv2\n",
    "import pandas as pd\n",
    "import os"
   ],
   "execution_count": 43,
   "outputs": []
  },
  {
   "metadata": {
    "ExecuteTime": {
     "end_time": "2024-05-14T09:43:05.538944Z",
     "start_time": "2024-05-14T09:43:05.534875Z"
    }
   },
   "cell_type": "code",
   "source": [
    "speakers = {'speaker_000': pd.DataFrame({\n",
    "    'start': [9.804754, 107.444822, 119.108659, 128.089983],\n",
    "    'end': [55.424448, 117.733447, 120.755518, 130.517827]}),\n",
    "    'speaker_001': pd.DataFrame({\n",
    "    'start': [0.229202, 55.424448, 118.073005, 120.755518, 129.889643],\n",
    "    'end': [8.904924, 107.037351, 119.668930, 129.159593, 146.816638]})}"
   ],
   "id": "d06717214b58cfc1",
   "execution_count": 2,
   "outputs": []
  },
  {
   "metadata": {
    "ExecuteTime": {
     "end_time": "2024-05-14T09:45:36.373717Z",
     "start_time": "2024-05-14T09:45:36.370425Z"
    }
   },
   "cell_type": "code",
   "source": [
    "session_id = '1'\n",
    "interview_id = '2'\n",
    "current_speaker = 'speaker_000'\n",
    "\n",
    "base_folder = os.path.join('C:/','Users', 'dalex', 'Documentos compartidos', 'ESGI', '5e_annee', 'PA')\n",
    "base_folder = os.path.join(base_folder,'files', session_id, interview_id)\n",
    "input_folder = os.path.join(base_folder, 'input')\n",
    "output_folder = os.path.join(base_folder, 'output')\n",
    "output_video_folder = os.path.join(output_folder, current_speaker, 'video_parts')"
   ],
   "id": "c84f01d1d10c37f7",
   "execution_count": 8,
   "outputs": []
  },
  {
   "metadata": {
    "ExecuteTime": {
     "end_time": "2024-05-14T09:45:39.364865Z",
     "start_time": "2024-05-14T09:45:39.361878Z"
    }
   },
   "cell_type": "code",
   "source": [
    "for file in os.listdir(input_folder):\n",
    "    print(file)"
   ],
   "id": "8ed3322493af8099",
   "execution_count": 9,
   "outputs": []
  },
  {
   "metadata": {
    "ExecuteTime": {
     "end_time": "2024-05-14T10:26:45.887141Z",
     "start_time": "2024-05-14T10:26:39.839317Z"
    }
   },
   "cell_type": "code",
   "source": [
    "def multiple_split(videofile: str, parts: pd.DataFrame) -> None:\n",
    "    \n",
    "    # Open the input video file\n",
    "    input_video_path = os.path.join(input_folder, videofile)\n",
    "    cap = cv2.VideoCapture(input_video_path)\n",
    "    \n",
    "    # Get video properties\n",
    "    fps = cap.get(cv2.CAP_PROP_FPS)\n",
    "    fourcc = cv2.VideoWriter_fourcc(*'XVID')\n",
    "    size = (int(cap.get(3)), int(cap.get(4)))\n",
    "    total_frames = int(cap.get(cv2.CAP_PROP_FRAME_COUNT))\n",
    "\n",
    "    for i in range(len(parts)):\n",
    "        start_time = parts['start'][i]\n",
    "        end_time = parts['end'][i]\n",
    "        output_path = os.path.join(output_video_folder, 'part_{:05d}.mp4'.format(i))\n",
    "        print(output_path)\n",
    "        \n",
    "        # Calculate frame indices for starting and ending times\n",
    "        start_frame = int(start_time * fps)\n",
    "        end_frame = int(end_time * fps)\n",
    "\n",
    "        # Set starting frame\n",
    "        cap.set(cv2.CAP_PROP_POS_FRAMES, start_frame)\n",
    "        \n",
    "        # Create VideoWriter object\n",
    "        out = cv2.VideoWriter(output_path, fourcc, fps, size)\n",
    "        \n",
    "        # Read frames and write to output video\n",
    "        frame_count = 0\n",
    "        while cap.isOpened() and frame_count <= (end_frame - start_frame):\n",
    "            ret, frame = cap.read()\n",
    "            if ret:\n",
    "                # Write the frame to the output video\n",
    "                out.write(frame)\n",
    "                frame_count += 1\n",
    "            else:\n",
    "                break\n",
    "\n",
    "    # Release resources\n",
    "    cap.release()\n",
    "    out.release()\n",
    "    \n",
    "def split_video(speakers):\n",
    "    filename = 'raw.mp4'\n",
    "    current_speaker = 'speaker_000'\n",
    "    for speaker, df in zip(speakers.keys(), speakers.values()):\n",
    "        if speaker == current_speaker:\n",
    "            multiple_split(filename, df)\n",
    "\n",
    "\n",
    "split_video(speakers)"
   ],
   "id": "40e6e9e915eb8f7e",
   "execution_count": 44,
   "outputs": []
  }
 ],
 "metadata": {
  "kernelspec": {
   "display_name": "Python 3",
   "language": "python",
   "name": "python3"
  },
  "language_info": {
   "codemirror_mode": {
    "name": "ipython",
    "version": 2
   },
   "file_extension": ".py",
   "mimetype": "text/x-python",
   "name": "python",
   "nbconvert_exporter": "python",
   "pygments_lexer": "ipython2",
   "version": "2.7.6"
  }
 },
 "nbformat": 4,
 "nbformat_minor": 5
}
