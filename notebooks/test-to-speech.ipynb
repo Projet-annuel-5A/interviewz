{
 "cells": [
  {
   "cell_type": "code",
   "source": [
    "import torch\n",
    "import librosa\n",
    "from transformers import Wav2Vec2ForCTC, Wav2Vec2Processor"
   ],
   "metadata": {
    "collapsed": false,
    "ExecuteTime": {
     "end_time": "2024-04-04T01:59:51.607985Z",
     "start_time": "2024-04-04T01:59:48.724473Z"
    }
   },
   "id": "2f2f25d56d5fafd",
   "execution_count": 1,
   "outputs": []
  },
  {
   "cell_type": "code",
   "source": [
    "MODEL_ID = \"jonatasgrosman/wav2vec2-large-xlsr-53-french\"\n",
    "SAMPLE_RATE = 16000\n",
    "\n",
    "AUDIOFILE = '../audio/input/youtube.wav'"
   ],
   "metadata": {
    "collapsed": false,
    "ExecuteTime": {
     "end_time": "2024-04-04T02:01:28.809574Z",
     "start_time": "2024-04-04T02:01:28.795063Z"
    }
   },
   "id": "a88eac6fad90fe2b",
   "execution_count": 9,
   "outputs": []
  },
  {
   "cell_type": "code",
   "source": [
    "processor = Wav2Vec2Processor.from_pretrained(MODEL_ID)\n",
    "model = Wav2Vec2ForCTC.from_pretrained(MODEL_ID)"
   ],
   "metadata": {
    "collapsed": false,
    "ExecuteTime": {
     "end_time": "2024-04-04T01:26:28.785433Z",
     "start_time": "2024-04-04T01:26:25.701613Z"
    }
   },
   "id": "15837f4d3983ad3b",
   "execution_count": 3,
   "outputs": []
  },
  {
   "cell_type": "code",
   "source": [
    "speech_array, sampling_rate = librosa.load(AUDIOFILE, sr=SAMPLE_RATE)"
   ],
   "metadata": {
    "collapsed": false,
    "ExecuteTime": {
     "end_time": "2024-04-04T01:26:29.516068Z",
     "start_time": "2024-04-04T01:26:28.787432Z"
    }
   },
   "id": "4471c7df698cc398",
   "execution_count": 4,
   "outputs": []
  },
  {
   "cell_type": "code",
   "source": [
    "inputs = processor(speech_array, sampling_rate=16_000, return_tensors=\"pt\", padding=True)"
   ],
   "metadata": {
    "collapsed": false,
    "ExecuteTime": {
     "end_time": "2024-04-04T01:26:31.620576Z",
     "start_time": "2024-04-04T01:26:29.517067Z"
    }
   },
   "id": "f8e90331bfc7364c",
   "execution_count": 5,
   "outputs": []
  },
  {
   "cell_type": "code",
   "source": [
    "with torch.no_grad():\n",
    "    logits = model(inputs.input_values, attention_mask=inputs.attention_mask).logits"
   ],
   "metadata": {
    "collapsed": false,
    "ExecuteTime": {
     "end_time": "2024-04-04T01:26:34.156980Z",
     "start_time": "2024-04-04T01:26:31.621573Z"
    }
   },
   "id": "950d1bdb031637f4",
   "execution_count": 6,
   "outputs": []
  },
  {
   "cell_type": "code",
   "source": [
    "predicted_ids = torch.argmax(logits, dim=-1)\n",
    "predicted_sentence = processor.batch_decode(predicted_ids)"
   ],
   "metadata": {
    "collapsed": false,
    "ExecuteTime": {
     "end_time": "2024-04-04T01:26:34.172977Z",
     "start_time": "2024-04-04T01:26:34.157979Z"
    }
   },
   "id": "e1ecb348f7bd3e52",
   "execution_count": 7,
   "outputs": []
  },
  {
   "cell_type": "code",
   "source": [
    "predicted_sentence[0]"
   ],
   "metadata": {
    "collapsed": false,
    "ExecuteTime": {
     "end_time": "2024-04-04T01:26:34.187977Z",
     "start_time": "2024-04-04T01:26:34.173978Z"
    }
   },
   "id": "28fbb212cd0429a7",
   "execution_count": 8,
   "outputs": []
  },
  {
   "cell_type": "code",
   "source": [
    "import torch\n",
    "from transformers import AutoModelForSpeechSeq2Seq, AutoProcessor, pipeline\n",
    "\n",
    "device = \"cuda:0\" if torch.cuda.is_available() else \"cpu\"\n",
    "torch_dtype = torch.float16 if torch.cuda.is_available() else torch.float32\n"
   ],
   "metadata": {
    "collapsed": false,
    "ExecuteTime": {
     "end_time": "2024-04-04T01:49:15.268798Z",
     "start_time": "2024-04-04T01:49:10.684936Z"
    }
   },
   "id": "fae1dc4f5eebc9fd",
   "execution_count": 1,
   "outputs": []
  },
  {
   "cell_type": "code",
   "source": [
    "model_name_or_path = \"bofenghuang/whisper-large-v3-french\"\n",
    "processor = AutoProcessor.from_pretrained(model_name_or_path)\n",
    "model = AutoModelForSpeechSeq2Seq.from_pretrained(\n",
    "    model_name_or_path,\n",
    "    torch_dtype=torch_dtype,\n",
    "    low_cpu_mem_usage=True,\n",
    ")\n",
    "model.to(device)"
   ],
   "metadata": {
    "collapsed": false,
    "ExecuteTime": {
     "end_time": "2024-04-04T01:49:18.540172Z",
     "start_time": "2024-04-04T01:49:15.269796Z"
    }
   },
   "id": "c37f24696472400",
   "execution_count": 2,
   "outputs": []
  },
  {
   "cell_type": "code",
   "source": [
    "pipe = pipeline(\n",
    "    \"automatic-speech-recognition\",\n",
    "    model=model,\n",
    "    feature_extractor=processor.feature_extractor,\n",
    "    tokenizer=processor.tokenizer,\n",
    "    torch_dtype=torch_dtype,\n",
    "    device=device,\n",
    "    # chunk_length_s=30,  # for long-form transcription\n",
    "    max_new_tokens=128,\n",
    ")"
   ],
   "metadata": {
    "collapsed": false,
    "ExecuteTime": {
     "end_time": "2024-04-04T01:49:30.248757Z",
     "start_time": "2024-04-04T01:49:30.229760Z"
    }
   },
   "id": "8470f895d48db53b",
   "execution_count": 4,
   "outputs": []
  },
  {
   "cell_type": "code",
   "source": [
    "result = pipe('../audio/input/youtube.wav')\n",
    "print(result[\"text\"])"
   ],
   "metadata": {
    "collapsed": false,
    "ExecuteTime": {
     "end_time": "2024-04-04T01:49:33.054900Z",
     "start_time": "2024-04-04T01:49:32.119274Z"
    }
   },
   "id": "7876597c9d2302db",
   "execution_count": 5,
   "outputs": []
  },
  {
   "cell_type": "markdown",
   "source": [
    ".--------------------------------------------------------------------------------------------------"
   ],
   "metadata": {
    "collapsed": false
   },
   "id": "49c8bb9189cebcd2"
  },
  {
   "cell_type": "code",
   "source": [
    "import torch\n",
    "from transformers import AutoModelForSpeechSeq2Seq, AutoProcessor, pipeline\n",
    "\n",
    "device = \"cuda:0\" if torch.cuda.is_available() else \"cpu\"\n",
    "torch_dtype = torch.float16 if torch.cuda.is_available() else torch.float32\n",
    "\n",
    "model_id = \"openai/whisper-large-v3\"\n",
    "\n",
    "model = AutoModelForSpeechSeq2Seq.from_pretrained(\n",
    "    model_id, torch_dtype=torch_dtype, low_cpu_mem_usage=True, use_safetensors=True\n",
    ")\n",
    "model.to(device)\n",
    "\n",
    "processor = AutoProcessor.from_pretrained(model_id)"
   ],
   "metadata": {
    "collapsed": false,
    "ExecuteTime": {
     "end_time": "2024-04-04T01:59:57.927344Z",
     "start_time": "2024-04-04T01:59:52.334642Z"
    }
   },
   "id": "a931ddd25d2092b6",
   "execution_count": 2,
   "outputs": []
  },
  {
   "cell_type": "code",
   "source": [
    "pipe = pipeline(\n",
    "    \"automatic-speech-recognition\",\n",
    "    model=model,\n",
    "    tokenizer=processor.tokenizer,\n",
    "    feature_extractor=processor.feature_extractor,\n",
    "    max_new_tokens=128,\n",
    "    chunk_length_s=30,\n",
    "    batch_size=16,\n",
    "    return_timestamps=True,\n",
    "    torch_dtype=torch_dtype,\n",
    "    device=device,\n",
    ")"
   ],
   "metadata": {
    "collapsed": false,
    "ExecuteTime": {
     "end_time": "2024-04-04T02:00:02.005098Z",
     "start_time": "2024-04-04T02:00:01.995095Z"
    }
   },
   "id": "a4a67d7c5cc0e4e5",
   "execution_count": 4,
   "outputs": []
  },
  {
   "cell_type": "code",
   "source": [
    "result = pipe(AUDIOFILE, generate_kwargs={\"language\": \"french\"})"
   ],
   "metadata": {
    "collapsed": false,
    "ExecuteTime": {
     "end_time": "2024-04-04T03:20:18.009379Z",
     "start_time": "2024-04-04T03:19:56.088257Z"
    }
   },
   "id": "7232ee43f36bf6db",
   "execution_count": 14,
   "outputs": []
  },
  {
   "cell_type": "code",
   "source": [
    "result['text']"
   ],
   "metadata": {
    "collapsed": false,
    "ExecuteTime": {
     "end_time": "2024-04-04T02:01:57.023113Z",
     "start_time": "2024-04-04T02:01:57.008509Z"
    }
   },
   "id": "85b01f1c95062b2",
   "execution_count": 12,
   "outputs": []
  },
  {
   "cell_type": "code",
   "source": [],
   "metadata": {
    "collapsed": false,
    "ExecuteTime": {
     "end_time": "2024-04-04T03:22:03.901660Z",
     "start_time": "2024-04-04T03:22:03.885661Z"
    }
   },
   "id": "d48c0ec596c1603f",
   "execution_count": 15,
   "outputs": []
  }
 ],
 "metadata": {
  "kernelspec": {
   "display_name": "Python 3",
   "language": "python",
   "name": "python3"
  },
  "language_info": {
   "codemirror_mode": {
    "name": "ipython",
    "version": 2
   },
   "file_extension": ".py",
   "mimetype": "text/x-python",
   "name": "python",
   "nbconvert_exporter": "python",
   "pygments_lexer": "ipython2",
   "version": "2.7.6"
  }
 },
 "nbformat": 4,
 "nbformat_minor": 5
}
