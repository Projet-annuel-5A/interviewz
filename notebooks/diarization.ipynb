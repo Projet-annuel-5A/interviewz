{
 "cells": [
  {
   "cell_type": "code",
   "source": [
    "import json\n",
    "import torchaudio\n",
    "import pandas as pd\n",
    "from pyannote.audio import Pipeline\n",
    "from typing import Dict, Tuple, List\n",
    "from pyannote.core.annotation import Annotation"
   ],
   "metadata": {
    "collapsed": false,
    "ExecuteTime": {
     "end_time": "2024-05-21T10:50:40.766211Z",
     "start_time": "2024-05-21T10:50:37.929321Z"
    }
   },
   "id": "50335079219c8c86",
   "outputs": [],
   "execution_count": 1
  },
  {
   "metadata": {
    "ExecuteTime": {
     "end_time": "2024-05-21T10:51:19.792732Z",
     "start_time": "2024-05-21T10:50:40.767217Z"
    }
   },
   "cell_type": "code",
   "source": [
    "HF_acces_token = ''\n",
    "pipeline = Pipeline.from_pretrained(\"pyannote/speaker-diarization-3.1\",\n",
    "                                     use_auth_token=\"HF_acces_token\")\n",
    "\n",
    "waveform, sample_rate = torchaudio.load(\"../../files/raw.wav\")\n",
    "diarization = pipeline({\"waveform\": waveform, \"sample_rate\": sample_rate}, num_speakers=2)\n",
    "diarization"
   ],
   "id": "a08ae6c40d544f5b",
   "outputs": [
    {
     "name": "stderr",
     "output_type": "stream",
     "text": [
      "torchvision is not available - cannot save figures\n"
     ]
    },
    {
     "data": {
      "text/plain": [
       "<pyannote.core.annotation.Annotation at 0x2b9dfb6b690>"
      ],
      "image/png": "[encoded data removed]"
     },
     "execution_count": 2,
     "metadata": {},
     "output_type": "execute_result"
    }
   ],
   "execution_count": 2
  },
  {
   "metadata": {
    "ExecuteTime": {
     "end_time": "2024-05-21T10:56:36.383299Z",
     "start_time": "2024-05-21T10:56:36.377429Z"
    }
   },
   "cell_type": "code",
   "source": [
    "def split_diarization(diarization: Annotation) -> Dict[str, List[Tuple[float, float]]]:\n",
    "    speakers_dict = {}\n",
    "    current_speaker = ''\n",
    "    values = Tuple[float, float]\n",
    "\n",
    "    for turn, _, speaker in diarization.itertracks(yield_label=True):\n",
    "        current_speaker = 'speaker_{:03d}'.format(int(speaker.split('_')[1]))\n",
    "        values = (turn.start, turn.end)\n",
    "        if speakers_dict.get(current_speaker) is None:\n",
    "            speakers_dict[current_speaker] = list()\n",
    "        speakers_dict[current_speaker].append(values)\n",
    "\n",
    "    return speakers_dict\n",
    "speakers = split_diarization(diarization)\n",
    "speakers"
   ],
   "id": "d9fddd810014624d",
   "outputs": [
    {
     "data": {
      "text/plain": [
       "{'speaker_000': [(0.30096875, 4.097843750000001),\n",
       "  (4.705343750000001, 6.865343750000001),\n",
       "  (7.371593750000001, 8.907218750000002),\n",
       "  (41.391593750000006, 41.45909375),\n",
       "  (55.44846875, 58.94159375),\n",
       "  (59.970968750000004, 63.143468750000004),\n",
       "  (63.51471875000001, 64.86471875000001),\n",
       "  (65.74221875, 67.36221875000001),\n",
       "  (68.13846875, 72.35721875),\n",
       "  (72.86346875000001, 75.93471875),\n",
       "  (76.47471875000001, 78.36471875000001),\n",
       "  (78.92159375, 79.66409375),\n",
       "  (80.08596875, 81.60471875),\n",
       "  (82.44846875, 83.29221875),\n",
       "  (83.88284375, 87.84846875000001),\n",
       "  (88.70909375000001, 95.15534375),\n",
       "  (95.61096875000001, 101.82096875),\n",
       "  (102.12471875, 104.89221875000001),\n",
       "  (104.92596875000001, 104.95971875000001),\n",
       "  (104.99346875, 107.05221875000001),\n",
       "  (118.10534375, 119.69159375000001),\n",
       "  (120.78846875, 125.71596875),\n",
       "  (125.90159375, 129.19221875),\n",
       "  (129.90096875, 130.39034375),\n",
       "  (131.33534375000002, 136.39784375000002),\n",
       "  (136.41471875000002, 142.13534375),\n",
       "  (143.45159375, 146.80971875)],\n",
       " 'speaker_001': [(9.818468750000001, 12.383468750000002),\n",
       "  (12.754718750000002, 19.52159375),\n",
       "  (20.078468750000003, 21.85034375),\n",
       "  (22.32284375, 25.90034375),\n",
       "  (26.997218750000002, 31.55346875),\n",
       "  (32.11034375, 35.73846875),\n",
       "  (36.244718750000004, 38.21909375),\n",
       "  (38.64096875, 39.282218750000006),\n",
       "  (40.362218750000004, 46.994093750000005),\n",
       "  (47.837843750000005, 51.094718750000006),\n",
       "  (51.314093750000005, 53.06909375),\n",
       "  (53.76096875, 55.44846875),\n",
       "  (107.45721875000001, 115.87784375000001),\n",
       "  (116.56971875, 117.76784375000001),\n",
       "  (119.13471875, 120.78846875),\n",
       "  (128.11221875, 130.54221875000002)]}"
      ]
     },
     "execution_count": 3,
     "metadata": {},
     "output_type": "execute_result"
    }
   ],
   "execution_count": 3
  },
  {
   "metadata": {
    "ExecuteTime": {
     "end_time": "2024-05-21T00:16:53.825104Z",
     "start_time": "2024-05-21T00:16:53.812541Z"
    }
   },
   "cell_type": "code",
   "source": [
    "df = pd.DataFrame(columns=['speaker', 'start', 'end'])\n",
    "for speaker, lines in zip(speakers.keys(), speakers.values()):\n",
    "    for line in lines:\n",
    "        df.loc[len(df)] = [speaker, line[0], line[1]]\n",
    "df"
   ],
   "id": "9e98feefe701f0e1",
   "outputs": [
    {
     "data": {
      "text/plain": [
       "        speaker       start         end\n",
       "0   speaker_000    0.300969    8.907219\n",
       "1   speaker_000   41.391594   41.459094\n",
       "2   speaker_000   55.448469  107.052219\n",
       "3   speaker_000  118.105344  119.691594\n",
       "4   speaker_000  120.788469  129.192219\n",
       "5   speaker_000  129.900969  146.809719\n",
       "6   speaker_001    9.818469   46.994094\n",
       "7   speaker_001   47.837844   55.448469\n",
       "8   speaker_001  107.457219  117.767844\n",
       "9   speaker_001  119.134719  120.788469\n",
       "10  speaker_001  128.112219  130.542219"
      ],
      "text/html": [
       "<div>\n",
       "<style scoped>\n",
       "    .dataframe tbody tr th:only-of-type {\n",
       "        vertical-align: middle;\n",
       "    }\n",
       "\n",
       "    .dataframe tbody tr th {\n",
       "        vertical-align: top;\n",
       "    }\n",
       "\n",
       "    .dataframe thead th {\n",
       "        text-align: right;\n",
       "    }\n",
       "</style>\n",
       "<table border=\"1\" class=\"dataframe\">\n",
       "  <thead>\n",
       "    <tr style=\"text-align: right;\">\n",
       "      <th></th>\n",
       "      <th>speaker</th>\n",
       "      <th>start</th>\n",
       "      <th>end</th>\n",
       "    </tr>\n",
       "  </thead>\n",
       "  <tbody>\n",
       "    <tr>\n",
       "      <th>0</th>\n",
       "      <td>speaker_000</td>\n",
       "      <td>0.300969</td>\n",
       "      <td>8.907219</td>\n",
       "    </tr>\n",
       "    <tr>\n",
       "      <th>1</th>\n",
       "      <td>speaker_000</td>\n",
       "      <td>41.391594</td>\n",
       "      <td>41.459094</td>\n",
       "    </tr>\n",
       "    <tr>\n",
       "      <th>2</th>\n",
       "      <td>speaker_000</td>\n",
       "      <td>55.448469</td>\n",
       "      <td>107.052219</td>\n",
       "    </tr>\n",
       "    <tr>\n",
       "      <th>3</th>\n",
       "      <td>speaker_000</td>\n",
       "      <td>118.105344</td>\n",
       "      <td>119.691594</td>\n",
       "    </tr>\n",
       "    <tr>\n",
       "      <th>4</th>\n",
       "      <td>speaker_000</td>\n",
       "      <td>120.788469</td>\n",
       "      <td>129.192219</td>\n",
       "    </tr>\n",
       "    <tr>\n",
       "      <th>5</th>\n",
       "      <td>speaker_000</td>\n",
       "      <td>129.900969</td>\n",
       "      <td>146.809719</td>\n",
       "    </tr>\n",
       "    <tr>\n",
       "      <th>6</th>\n",
       "      <td>speaker_001</td>\n",
       "      <td>9.818469</td>\n",
       "      <td>46.994094</td>\n",
       "    </tr>\n",
       "    <tr>\n",
       "      <th>7</th>\n",
       "      <td>speaker_001</td>\n",
       "      <td>47.837844</td>\n",
       "      <td>55.448469</td>\n",
       "    </tr>\n",
       "    <tr>\n",
       "      <th>8</th>\n",
       "      <td>speaker_001</td>\n",
       "      <td>107.457219</td>\n",
       "      <td>117.767844</td>\n",
       "    </tr>\n",
       "    <tr>\n",
       "      <th>9</th>\n",
       "      <td>speaker_001</td>\n",
       "      <td>119.134719</td>\n",
       "      <td>120.788469</td>\n",
       "    </tr>\n",
       "    <tr>\n",
       "      <th>10</th>\n",
       "      <td>speaker_001</td>\n",
       "      <td>128.112219</td>\n",
       "      <td>130.542219</td>\n",
       "    </tr>\n",
       "  </tbody>\n",
       "</table>\n",
       "</div>"
      ]
     },
     "execution_count": 5,
     "metadata": {},
     "output_type": "execute_result"
    }
   ],
   "execution_count": 5
  },
  {
   "metadata": {
    "ExecuteTime": {
     "end_time": "2024-05-21T00:32:27.364279Z",
     "start_time": "2024-05-21T00:32:27.359886Z"
    }
   },
   "cell_type": "code",
   "source": [
    "speakers_str = json.dumps(speakers)\n",
    "speakers_str"
   ],
   "id": "2dfbee59b2f81472",
   "outputs": [
    {
     "data": {
      "text/plain": [
       "'{\"speaker_000\": [[0.30096875, 8.907218750000002], [41.391593750000006, 41.45909375], [55.44846875, 107.05221875000001], [118.10534375, 119.69159375000001], [120.78846875, 129.19221875], [129.90096875, 146.80971875]], \"speaker_001\": [[9.818468750000001, 46.994093750000005], [47.837843750000005, 55.44846875], [107.45721875000001, 117.76784375000001], [119.13471875, 120.78846875], [128.11221875, 130.54221875000002]]}'"
      ]
     },
     "execution_count": 12,
     "metadata": {},
     "output_type": "execute_result"
    }
   ],
   "execution_count": 12
  },
  {
   "metadata": {
    "ExecuteTime": {
     "end_time": "2024-05-21T00:18:29.607463Z",
     "start_time": "2024-05-21T00:18:29.603470Z"
    }
   },
   "cell_type": "code",
   "source": [
    "speakers_2 = json.loads(speakers_str)\n",
    "type(speakers_2)"
   ],
   "id": "fb2ee39f46f24155",
   "outputs": [
    {
     "data": {
      "text/plain": [
       "dict"
      ]
     },
     "execution_count": 11,
     "metadata": {},
     "output_type": "execute_result"
    }
   ],
   "execution_count": 11
  },
  {
   "metadata": {
    "ExecuteTime": {
     "end_time": "2024-05-20T20:43:31.955511Z",
     "start_time": "2024-05-20T20:43:31.952452Z"
    }
   },
   "cell_type": "code",
   "source": [
    "def printing(to_print: str):\n",
    "    print(to_print)"
   ],
   "id": "e58f2aa8819521d3",
   "execution_count": 24,
   "outputs": []
  },
  {
   "metadata": {
    "ExecuteTime": {
     "end_time": "2024-05-20T20:45:03.873250Z",
     "start_time": "2024-05-20T20:45:03.865501Z"
    }
   },
   "cell_type": "code",
   "source": [
    "for speaker, lines in zip(speakers.keys(), speakers.values()):\n",
    "    print('Iteration: ', i)\n",
    "    printing(speaker)\n",
    "    printing(lines)"
   ],
   "id": "9c834505cf55001c",
   "execution_count": 30,
   "outputs": []
  },
  {
   "metadata": {
    "ExecuteTime": {
     "end_time": "2024-05-19T21:01:16.208685Z",
     "start_time": "2024-05-19T21:01:16.201774Z"
    }
   },
   "cell_type": "code",
   "source": [
    "for speaker, lines in zip(speakers_2.keys(), speakers_2.values()):\n",
    "    print(speaker)\n",
    "    df = pd.DataFrame(lines, columns=['start', 'end'])\n",
    "    print(df)"
   ],
   "id": "d9a487661c524b76",
   "execution_count": 73,
   "outputs": []
  },
  {
   "metadata": {
    "ExecuteTime": {
     "end_time": "2024-05-19T21:01:20.346656Z",
     "start_time": "2024-05-19T21:01:20.343180Z"
    }
   },
   "cell_type": "code",
   "source": [
    "lines = speakers_2['speaker_000']\n",
    "lines"
   ],
   "id": "a06ec39951d68085",
   "execution_count": 74,
   "outputs": []
  },
  {
   "metadata": {
    "ExecuteTime": {
     "end_time": "2024-05-19T21:01:22.404157Z",
     "start_time": "2024-05-19T21:01:22.386379Z"
    }
   },
   "cell_type": "code",
   "source": [
    "for i in range(len(lines)):\n",
    "    video_emotions = {}\n",
    "    part_name = 'part_{:05d}'.format(i)\n",
    "    start_time = lines[i][0]\n",
    "    end_time = lines[i][1]\n",
    "    print('Start time: ', start_time, ' End time: ', end_time)"
   ],
   "id": "1a058e6dbc4e5c45",
   "execution_count": 75,
   "outputs": []
  },
  {
   "metadata": {},
   "cell_type": "code",
   "execution_count": 12,
   "source": "speaker_0 = speaker_1 = pd.DataFrame(columns=['start', 'end'])",
   "id": "ed72f50d1319d6a0",
   "outputs": []
  },
  {
   "metadata": {},
   "cell_type": "code",
   "execution_count": 13,
   "source": [
    "for turn, _, speaker in diarization.itertracks(yield_label=True):\n",
    "    #print(f\"start={turn.start:.1f}s stop={turn.end:.1f}s speaker_{speaker}\")\n",
    "    if speaker == \"SPEAKER_00\": \n",
    "        speaker_0.loc[len(speaker_0)] = [turn.start, turn.end]\n",
    "    elif speaker == \"SPEAKER_01\":\n",
    "        speaker_1.loc[len(speaker_1)] = [turn.start, turn.end]"
   ],
   "id": "3ac08e8ba4f6e837",
   "outputs": []
  },
  {
   "cell_type": "code",
   "source": [
    "with open(\"./audio/output/audio.rttm\", \"w\") as rttm:\n",
    "    diarization.write_rttm(rttm)"
   ],
   "metadata": {
    "collapsed": false,
    "ExecuteTime": {
     "end_time": "2024-04-03T03:06:41.192297Z",
     "start_time": "2024-04-03T03:06:41.180297Z"
    }
   },
   "id": "c001a587f9710047",
   "execution_count": 5,
   "outputs": []
  },
  {
   "cell_type": "code",
   "source": [
    "# apply pretrained pipeline\n",
    "diarization = pipeline(\"audio.wav\")\n",
    "\n",
    "# print the result\n",
    "for turn, _, speaker in diarization.itertracks(yield_label=True):\n",
    "    print(f\"start={turn.start:.1f}s stop={turn.end:.1f}s speaker_{speaker}\")\n",
    "# start=0.2s stop=1.5s speaker_0\n",
    "# start=1.8s stop=3.9s speaker_1\n",
    "# start=4.2s stop=5.7s speaker_0\n",
    "# ..."
   ],
   "metadata": {
    "collapsed": false
   },
   "id": "8b6781fa58c5f00b",
   "execution_count": null,
   "outputs": []
  },
  {
   "cell_type": "code",
   "source": [
    "speaker_0"
   ],
   "metadata": {
    "collapsed": false,
    "ExecuteTime": {
     "end_time": "2024-04-03T05:00:08.090693Z",
     "start_time": "2024-04-03T05:00:08.077694Z"
    }
   },
   "id": "aa6d63daa6eb377e",
   "execution_count": 41,
   "outputs": []
  },
  {
   "metadata": {
    "ExecuteTime": {
     "end_time": "2024-05-19T21:41:23.531415Z",
     "start_time": "2024-05-19T21:41:23.527587Z"
    }
   },
   "cell_type": "code",
   "source": [
    "def test (_speakers: Dict) -> bool:\n",
    "    speakers = {'speaker_000': [(0.30096875, 8.907218750000002),\n",
    "                                (41.391593750000006, 41.45909375),\n",
    "                                (55.44846875, 107.05221875000001),\n",
    "                                (118.10534375, 119.69159375000001),\n",
    "                                (120.78846875, 129.19221875),\n",
    "                                (129.90096875, 146.80971875)],\n",
    "                'speaker_001': [(9.818468750000001, 46.994093750000005),\n",
    "                                (47.837843750000005, 55.44846875),\n",
    "                                (107.45721875000001, 117.76784375000001),\n",
    "                                (119.13471875, 120.78846875),\n",
    "                                (128.11221875, 130.54221875000002)]\n",
    "                }\n",
    "\n",
    "    return _speakers == speakers"
   ],
   "id": "3b9e3d2ce347cd60",
   "execution_count": 83,
   "outputs": []
  },
  {
   "metadata": {
    "ExecuteTime": {
     "end_time": "2024-05-19T21:41:12.844157Z",
     "start_time": "2024-05-19T21:41:12.840466Z"
    }
   },
   "cell_type": "code",
   "source": [
    "test_dict = {'speaker_000': [(0.30096875, 8.907218750000002),\n",
    "  (41.391593750000006, 41.45909375),\n",
    "  (55.44846875, 107.05221875000001),\n",
    "  (118.10534375, 119.69159375000001),\n",
    "  (120.78846875, 129.19221875),\n",
    "  (129.90096875, 146.80971875)],\n",
    " 'speaker_001': [(9.818468750000001, 46.994093750000005),\n",
    "  (47.837843750000005, 55.44846875),\n",
    "  (107.45721875000001, 117.76784375000001),\n",
    "  (119.13471875, 120.78846875),\n",
    "  (128.11221875, 130.54221875000002)]}"
   ],
   "id": "ea6143f79337bd3d",
   "execution_count": 82,
   "outputs": []
  },
  {
   "metadata": {
    "ExecuteTime": {
     "end_time": "2024-05-19T21:41:26.951188Z",
     "start_time": "2024-05-19T21:41:26.947723Z"
    }
   },
   "cell_type": "code",
   "source": "test(test_dict)",
   "id": "6d05a838598f9328",
   "execution_count": 84,
   "outputs": []
  }
 ],
 "metadata": {
  "kernelspec": {
   "display_name": "Python 3",
   "language": "python",
   "name": "python3"
  },
  "language_info": {
   "codemirror_mode": {
    "name": "ipython",
    "version": 2
   },
   "file_extension": ".py",
   "mimetype": "text/x-python",
   "name": "python",
   "nbconvert_exporter": "python",
   "pygments_lexer": "ipython2",
   "version": "2.7.6"
  }
 },
 "nbformat": 4,
 "nbformat_minor": 5
}
