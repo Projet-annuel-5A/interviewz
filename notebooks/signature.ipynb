{
 "cells": [
  {
   "cell_type": "code",
   "execution_count": 1,
   "metadata": {},
   "outputs": [],
   "source": [
    "import requests"
   ]
  },
  {
   "cell_type": "markdown",
   "metadata": {},
   "source": [
    "INFORMATIONS DU DESTINATAIRE"
   ]
  },
  {
   "cell_type": "code",
   "execution_count": 55,
   "metadata": {},
   "outputs": [],
   "source": [
    "candidate_name = 'MURO Daniel'\n",
    "candidate_email = 'dalexmuro.fr@gmail.com'\n",
    "candidate_phone = '+33753000364'"
   ]
  },
  {
   "cell_type": "markdown",
   "metadata": {},
   "source": [
    "URL DE L'EDGE FUNCTION A CODER"
   ]
  },
  {
   "cell_type": "code",
   "execution_count": 58,
   "metadata": {},
   "outputs": [],
   "source": [
    "url_callback = 'http://apicallbacks.pdffiller.com/handle?hash=94d14931'"
   ]
  },
  {
   "cell_type": "markdown",
   "metadata": {},
   "source": [
    "VARIABLES D'ENVIRONNEMENT"
   ]
  },
  {
   "cell_type": "code",
   "execution_count": 64,
   "metadata": {},
   "outputs": [],
   "source": [
    "bearer_token = ''\n",
    "basic_token = '='\n",
    "template_id = ''"
   ]
  },
  {
   "cell_type": "markdown",
   "metadata": {},
   "source": [
    "INFORMATIONS DE L'EMMETEUR"
   ]
  },
  {
   "cell_type": "code",
   "execution_count": 65,
   "metadata": {},
   "outputs": [],
   "source": [
    "recruiter_name = 'HR Cabinet'\n",
    "recruiter_email = 'dalexmuro@gmail.com'"
   ]
  },
  {
   "cell_type": "markdown",
   "metadata": {},
   "source": [
    "COPIER UN DOCUMENT A PARTIR D'UN MODELE\n",
    "https://docs.signnow.com/docs/signnow/template/operations/create-a-template-copy"
   ]
  },
  {
   "cell_type": "code",
   "execution_count": 81,
   "metadata": {},
   "outputs": [
    {
     "name": "stdout",
     "output_type": "stream",
     "text": [
      "{'id': '655f538a494b4e389587ccf11bddb9342b96809e', 'name': \"Autorisation d'utilisation d'image de MURO Daniel\"}\n"
     ]
    }
   ],
   "source": [
    "url = \"https://api.signnow.com/template/{}/copy\".format(template_id)\n",
    "payload = { \"document_name\": \"Autorisation d'utilisation d'image de {}\".format(candidate_name) }\n",
    "headers = {\n",
    "    \"Authorization\": \"Bearer {}\".format(bearer_token),\n",
    "    \"Content-Type\": \"application/json\",\n",
    "    \"Accept\": \"application/json\"\n",
    "}\n",
    "response_copy = requests.post(url, json=payload, headers=headers)\n",
    "document_id = response_copy.json()['id']\n",
    "print(response_copy.json())"
   ]
  },
  {
   "cell_type": "markdown",
   "metadata": {},
   "source": [
    "CREER LA SUSCRIPTION AUX EVENEMENTS\n",
    "https://docs.signnow.com/docs/signnow/webhooks/operations/create-a-api-v-2-event"
   ]
  },
  {
   "cell_type": "code",
   "execution_count": 61,
   "metadata": {},
   "outputs": [
    {
     "name": "stdout",
     "output_type": "stream",
     "text": [
      "<Response [201]>\n"
     ]
    }
   ],
   "source": [
    "url = \"https://api.signnow.com/api/v2/events\"\n",
    "payload = {\n",
    "    \"event\": \"document.complete\",\n",
    "    \"entity_id\": document_id,\n",
    "    \"action\": \"callback\",\n",
    "    \"attributes\": {\n",
    "        \"delete_access_token\": True,\n",
    "        \"callback\": url_callback,\n",
    "        \"use_tls_12\": True,\n",
    "        \"docid_queryparam\": True,\n",
    "        \"headers\": {\n",
    "            \"string_head\": \"sample_text\",\n",
    "            \"int_head\": 12,\n",
    "            \"bool_head\": False,\n",
    "            \"float_head\": 12.24\n",
    "        }\n",
    "    }\n",
    "}\n",
    "headers = {\n",
    "    \"Authorization\": \"Bearer {}\".format(bearer_token),\n",
    "    \"Content-Type\": \"application/json\",\n",
    "    \"Accept\": \"application/json, \"\n",
    "}\n",
    "response_event = requests.post(url, json=payload, headers=headers)\n",
    "print(response_event)"
   ]
  },
  {
   "cell_type": "markdown",
   "metadata": {},
   "source": [
    "ENVOYER L'INVITATION A SIGNER\n",
    "https://docs.signnow.com/docs/signnow/field-invite/operations/create-a-document-invite"
   ]
  },
  {
   "cell_type": "code",
   "execution_count": 62,
   "metadata": {},
   "outputs": [
    {
     "name": "stdout",
     "output_type": "stream",
     "text": [
      "{'status': 'success'}\n"
     ]
    }
   ],
   "source": [
    "url = \"https://api.signnow.com/document/{}/invite\".format(document_id)\n",
    "payload = {\n",
    "    \"document_id\": document_id,\n",
    "    \"to\": [\n",
    "        {\n",
    "            \"email\": candidate_email,\n",
    "            \"role_id\": \"\",\n",
    "            \"role\": \"Recipient 1\",\n",
    "            \"order\": 1,\n",
    "            \"prefill_signature_name\": \"Recipient 1\",\n",
    "            \"force_new_signature\": 0,\n",
    "            \"reassign\": \"0\",\n",
    "            \"decline_by_signature\": \"0\",\n",
    "            \"reminder\": 0,\n",
    "            \"expiration_days\": 30,\n",
    "            \"authentication_type\": \"phone\",\n",
    "            \"phone\": candidate_phone,\n",
    "            \"method\": \"sms\",\n",
    "            \"authentication_sms_message\": \"Votre code de vérification est : {password}\",\n",
    "            \"subject\": \"Vous avez un document à signer\",\n",
    "            \"message\": \"{} vous a invité à signer un document\".format(recruiter_name),\n",
    "            \"language\": \"fr\"\n",
    "        }\n",
    "    ],\n",
    "    \"from\": recruiter_email\n",
    "}\n",
    "headers = {\n",
    "    \"Authorization\": \"Bearer {}\".format(bearer_token),\n",
    "    \"Content-type\": \"\",\n",
    "    \"Content-Type\": \"application/json\",\n",
    "    \"Accept\": \"application/json\"\n",
    "}\n",
    "response_signature = requests.post(url, json=payload, headers=headers)\n",
    "print(response_signature.json())"
   ]
  },
  {
   "cell_type": "markdown",
   "metadata": {},
   "source": [
    "Node/Native : (variables écrites en dur, à remplacer)\n",
    "```js\n",
    "```"
   ]
  },
  {
   "cell_type": "markdown",
   "metadata": {},
   "source": [
    "VERIFIER LA SUSCRIPTION AUX EVENEMENTS (SI BESOIN) \n",
    "https://docs.signnow.com/docs/signnow/webhooks/operations/list-api-v-2-events"
   ]
  },
  {
   "cell_type": "code",
   "execution_count": 47,
   "metadata": {},
   "outputs": [
    {
     "name": "stdout",
     "output_type": "stream",
     "text": [
      "[{'id': '7182b52f16484506add0b9e6f3e2a26a7a392e8f', 'entity_type': 'document', 'event': 'document.complete', 'entity_id': 414824816, 'entity_unique_id': '67b53c98469d4764ab16003047fde267e9cd1f75', 'request_method': 'post', 'action': 'callback', 'active': True, 'json_attributes': {'use_tls_12': True, 'docid_queryparam': True, 'callback_url': 'http://apicallbacks.pdffiller.com/handle?hash=d948820e', 'headers': {'string_head': 'sample_text', 'int_head': 12, 'bool_head': False, 'float_head': 12.24}, 'delete_access_token': True}, 'application_name': 'RH', 'version': 2, 'created': 1716827493}, {'id': '70cdf91e15924a0bbaa9fb40aaf14470b1223453', 'entity_type': 'document', 'event': 'document.complete', 'entity_id': 416988312, 'entity_unique_id': '5d61f53c9fbf4721993fdb6d2411b7462d373387', 'request_method': 'post', 'action': 'callback', 'active': True, 'json_attributes': {'use_tls_12': True, 'docid_queryparam': True, 'callback_url': 'http://apicallbacks.pdffiller.com/handle?hash=c7de503c', 'headers': {'string_head': 'sample_text', 'int_head': 12, 'bool_head': False, 'float_head': 12.24}, 'delete_access_token': True}, 'application_name': 'RH', 'version': 2, 'created': 1717546687}, {'id': '3656c2911aeb4752bc0bed68d2284906d062a435', 'entity_type': 'document', 'event': 'document.complete', 'entity_id': 416988386, 'entity_unique_id': '853dbd9ccf6242b0ac178b9eb43690bae96f218e', 'request_method': 'post', 'action': 'callback', 'active': True, 'json_attributes': {'use_tls_12': True, 'docid_queryparam': True, 'callback_url': 'http://apicallbacks.pdffiller.com/handle?hash=c7de503c', 'headers': {'string_head': 'sample_text', 'int_head': 12, 'bool_head': False, 'float_head': 12.24}, 'delete_access_token': True}, 'application_name': 'RH', 'version': 2, 'created': 1717546711}, {'id': '18a488e97cca488a9ba045285fcf0afd2a542f44', 'entity_type': 'document', 'event': 'document.complete', 'entity_id': 416988452, 'entity_unique_id': '17cf7d40691a491489bd4611d9b4eadc822e76a3', 'request_method': 'post', 'action': 'callback', 'active': True, 'json_attributes': {'use_tls_12': True, 'docid_queryparam': True, 'callback_url': 'http://apicallbacks.pdffiller.com/handle?hash=c7de503c', 'headers': {'string_head': 'sample_text', 'int_head': 12, 'bool_head': False, 'float_head': 12.24}, 'delete_access_token': True}, 'application_name': 'RH', 'version': 2, 'created': 1717546743}]\n"
     ]
    }
   ],
   "source": [
    "url = \"https://api.signnow.com/api/v2/events\"\n",
    "headers = {\n",
    "    \"Authorization\": \"Basic {}\".format(basic_token),\n",
    "    \"Accept\": \"application/json\"\n",
    "}\n",
    "response_check = requests.get(url, headers=headers)\n",
    "print(response_check.json()['data'])"
   ]
  },
  {
   "cell_type": "markdown",
   "metadata": {},
   "source": [
    "TELECHARGER UN DOCUMENT\n",
    "https://docs.signnow.com/docs/signnow/document/operations/get-a-document-download"
   ]
  },
  {
   "cell_type": "code",
   "execution_count": 66,
   "metadata": {},
   "outputs": [
    {
     "name": "stdout",
     "output_type": "stream",
     "text": [
      "<Response [200]>\n"
     ]
    }
   ],
   "source": [
    "url = \"https://api.signnow.com/document/{}/download\".format(document_id)\n",
    "querystring = {'type':'collapsed'}\n",
    "headers = {\n",
    "    \"Authorization\": \"Bearer {}\".format(bearer_token),\n",
    "    \"Accept\": \"application/pdf\"\n",
    "}\n",
    "response_download = requests.get(url, headers=headers, params=querystring)\n",
    "print(response_download)"
   ]
  },
  {
   "cell_type": "markdown",
   "metadata": {},
   "source": [
    "CREER LE DOCUMENT PDF"
   ]
  },
  {
   "cell_type": "code",
   "execution_count": 80,
   "metadata": {},
   "outputs": [
    {
     "name": "stdout",
     "output_type": "stream",
     "text": [
      "PDF file has been written to Autorisation d'utilisation d'image de MURO Daniel.pdf\n"
     ]
    }
   ],
   "source": [
    "filename = \"Autorisation d'utilisation d'image de {}.pdf\".format(candidate_name)\n",
    "\n",
    "with open(filename, 'wb') as file:\n",
    "    file.write(response_download.content)\n",
    "\n",
    "print(f\"PDF file has been written to {filename}\")"
   ]
  }
 ],
 "metadata": {
  "kernelspec": {
   "display_name": "base",
   "language": "python",
   "name": "python3"
  },
  "language_info": {
   "codemirror_mode": {
    "name": "ipython",
    "version": 3
   },
   "file_extension": ".py",
   "mimetype": "text/x-python",
   "name": "python",
   "nbconvert_exporter": "python",
   "pygments_lexer": "ipython3",
   "version": "3.11.9"
  }
 },
 "nbformat": 4,
 "nbformat_minor": 2
}
