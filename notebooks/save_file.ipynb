{
 "cells": [
  {
   "cell_type": "code",
   "execution_count": null,
   "id": "51bee5013ea18756",
   "metadata": {},
   "source": [
    "import os\n",
    "import sys\n",
    "import json\n",
    "import torch\n",
    "import tempfile\n",
    "import torchaudio\n",
    "import numpy as np\n",
    "import pandas as pd\n",
    "import concurrent.futures\n",
    "from typing import Any, Tuple\n",
    "from moviepy.editor import *\n",
    "from pydub import AudioSegment\n",
    "from supabase import create_client, Client\n",
    "from transformers import AutoModelForSpeechSeq2Seq, AutoProcessor"
   ],
   "outputs": []
  },
  {
   "cell_type": "code",
   "execution_count": null,
   "id": "2c24469c92b3f3eb",
   "metadata": {},
   "source": [
    "videopath = '../files/1/2/input/raw.mp4'\n",
    "audiopath = '../files/1/2/raw.wav'\n",
    "outputpath = '../files/1/2/output.wav'\n",
    "filename = 'raw.wav'\n",
    "fileformat = 'audio'\n",
    "videoname = 'raw.mp4'\n",
    "\n",
    "supabase_key = ''\n",
    "supabase_url = 'https://kglmfklezrjwfvtcolgb.supabase.co'\n",
    "supabase_bucket = 'interviews'\n",
    "\n",
    "output_s3_folder = '1/2/output'\n",
    "s3_temp_path = '1/2/output/temp'\n",
    "current_speaker = 'speaker_000'"
   ],
   "outputs": []
  },
  {
   "cell_type": "code",
   "execution_count": null,
   "id": "5e26ef4296e3d230",
   "metadata": {},
   "source": [
    "def __check_supabase_connection() -> Client:\n",
    "    try:\n",
    "        client = create_client(supabase_url, supabase_key)\n",
    "    except Exception as e:\n",
    "        message = ('Error connecting to Supabase, the program can not continue. {}'.\n",
    "                   format(e.args[0]['message']))\n",
    "        print(message)\n",
    "        sys.exit(1)\n",
    "    return client\n",
    "\n",
    "supabase_client = __check_supabase_connection()\n",
    "\n",
    "def __connect_to_bucket() -> Any:\n",
    "    bucket_name = supabase_bucket\n",
    "    connection = supabase_client.storage.from_(bucket_name)\n",
    "    try:\n",
    "        connection.list()\n",
    "        print('Connection to S3 bucket {} successful'.format(bucket_name))\n",
    "    except Exception as e:\n",
    "        message = ('Error connecting to S3 bucket {}, the program can not continue. {}'.\n",
    "                   format(bucket_name, e.args[0]['message']))\n",
    "        print(message)\n",
    "        sys.exit(1)\n",
    "    return connection\n",
    "\n",
    "supabase_connection = __connect_to_bucket()\n",
    "supabase: Client = create_client(supabase_url, supabase_key)"
   ],
   "outputs": []
  },
  {
   "cell_type": "code",
   "execution_count": null,
   "id": "7bc0ec62287359c5",
   "metadata": {},
   "source": [
    "supabase.table('results').delete().eq('interview_id', 2).execute()"
   ],
   "outputs": []
  },
  {
   "cell_type": "code",
   "execution_count": null,
   "id": "8fb3d00cb3c4d5cf",
   "metadata": {},
   "source": [
    "path = '1/2/output'\n",
    "subfolders = ([file['name'] for file in supabase_connection.list(path) if len(file['name'].split('.')) == 1])\n",
    "subfolders"
   ],
   "outputs": []
  },
  {
   "cell_type": "code",
   "execution_count": null,
   "id": "e80c1c7e23aed167",
   "metadata": {},
   "source": [],
   "outputs": []
  },
  {
   "cell_type": "code",
   "execution_count": null,
   "id": "46af7b17629a8c86",
   "metadata": {},
   "source": [
    "path = '1/2/output'\n",
    "content = ([file['name'] for file in supabase_connection.list(path)])\n",
    "subfolders = [folder for folder in content if '.' not in folder]\n",
    "files_to_delete = ['{}/{}'.format(path, file) for file in content if '.' in file]"
   ],
   "outputs": []
  },
  {
   "cell_type": "code",
   "execution_count": null,
   "id": "a22ef0a27f494b6c",
   "metadata": {},
   "source": [
    "# List files to delete in subfolders\n",
    "for folder in subfolders:\n",
    "    files_to_delete += (['{}/{}/{}'.format(path, folder, file['name'])\n",
    "                            for file in supabase_connection.list('{}/{}'.format(path, folder))])\n"
   ],
   "outputs": []
  },
  {
   "cell_type": "code",
   "execution_count": null,
   "id": "ce20b0ed30731dcf",
   "metadata": {},
   "source": [
    "subfolders, files_to_delete"
   ],
   "outputs": []
  },
  {
   "cell_type": "code",
   "execution_count": null,
   "id": "af36ac4cb76f9f40",
   "metadata": {},
   "source": [
    "# Delete results in DB\n",
    "supabase.table('results').delete().eq('interview_id', 2).execute()"
   ],
   "outputs": []
  },
  {
   "cell_type": "code",
   "execution_count": null,
   "id": "8bef74b55eae718e",
   "metadata": {},
   "source": [
    "for file in files_to_delete:\n",
    "    supabase_connection.remove(file)"
   ],
   "outputs": []
  },
  {
   "cell_type": "code",
   "execution_count": null,
   "id": "437ea19af2865a75",
   "metadata": {},
   "source": [
    "def __open_input_file(videoname: str, env: str) -> Tuple[AudioFileClip, str, str] | None:\n",
    "    if env == 'S3':\n",
    "        s3_path = '1/2/raw/{}'.format(videoname)\n",
    "        try:\n",
    "            video_bytes = supabase_connection.download(s3_path)\n",
    "            # Step 1: Create a temporary file\n",
    "            with tempfile.NamedTemporaryFile(suffix='.mp4', delete=False) as temp_file:\n",
    "                temp_file_path = temp_file.name\n",
    "                try:\n",
    "                    # Step 2: Write the video_bytes to the temporary file\n",
    "                    temp_file.write(video_bytes)\n",
    "                    # Step 3: Ensure data is written to disk\n",
    "                    temp_file.flush()\n",
    "                    # Step 4: Open the video from the temporary file\n",
    "                    audio = VideoFileClip(temp_file_path).audio\n",
    "                    # Step 5: Extract the audio from the video file\n",
    "                    \n",
    "                    with tempfile.NamedTemporaryFile(suffix='.wav', delete=False) as temp_file_2:\n",
    "                        temp_file_path_2 = temp_file_2.name\n",
    "                \n",
    "                        try:\n",
    "                            # Step 2: Write the AudioFileClip to the temporary file\n",
    "                            audio.write_audiofile(temp_file_path_2, codec='pcm_s16le')\n",
    "                            \n",
    "                            # Step 3: Load the temporary file with pydub\n",
    "                            audio_segment = AudioSegment.from_file(temp_file_path_2, format='wav')\n",
    "                        \n",
    "                        finally:\n",
    "                            temp_file_2.close()\n",
    "                finally:\n",
    "                    temp_file.close()\n",
    "        except Exception as e:\n",
    "            message = ('Error downloading the file {} from the S3 bucket: {}'.\n",
    "                       format(videoname, e.args[0]['message']))\n",
    "            sys.exit(1)\n",
    "        return audio_segment, temp_file_path, temp_file_path_2"
   ],
   "outputs": []
  },
  {
   "cell_type": "code",
   "execution_count": null,
   "id": "174c07ad4dacff8f",
   "metadata": {},
   "source": [
    "audio, temp_file_path, temp_file_path_2 = __open_input_file(videoname, 'S3')\n",
    "type(audio)"
   ],
   "outputs": []
  },
  {
   "cell_type": "code",
   "execution_count": null,
   "id": "c895eeca331b79b7",
   "metadata": {},
   "source": [
    "audio.frame_rate"
   ],
   "outputs": []
  },
  {
   "cell_type": "code",
   "execution_count": null,
   "id": "15691aca0c79c23c",
   "metadata": {},
   "source": [
    "def save_to_s3(filename: str, content: bytes, file_format: str, s3_subfolder: str = None) -> bool:\n",
    "    match file_format:\n",
    "        case 'audio': content_type = 'audio/mpeg'\n",
    "        case 'video': content_type = 'video/mp4'\n",
    "        case 'text': content_type = 'text/plain'\n",
    "        case _: content_type = 'text/plain'\n",
    "\n",
    "    try:\n",
    "        s3_path = '{}/{}/{}'.format(output_s3_folder,\n",
    "                                    s3_subfolder,\n",
    "                                    filename) if s3_subfolder else '{}/{}'.format(output_s3_folder, filename)\n",
    "        supabase_connection.upload(file=content, path=s3_path, file_options={\"content-type\": content_type})\n",
    "        return True\n",
    "    except Exception as e:\n",
    "        message = ('Error uploading the file {} to the S3 bucket: {}'.\n",
    "                   format(filename, e.args[0]['message']))\n",
    "        return False"
   ],
   "outputs": []
  },
  {
   "cell_type": "code",
   "execution_count": null,
   "id": "122adedc47ae64d8",
   "metadata": {},
   "source": [],
   "outputs": []
  },
  {
   "cell_type": "markdown",
   "id": "102de89cf4b3a84d",
   "metadata": {},
   "source": [
    "Video to audio"
   ]
  },
  {
   "cell_type": "code",
   "execution_count": null,
   "id": "465fd0c715043865",
   "metadata": {},
   "source": [
    "def __video_to_audio(video_path: str, audio_path: str) -> None:\n",
    "    video = VideoFileClip(video_path)\n",
    "    audio = video.audio\n",
    "    audio.write_audiofile(audio_path)\n",
    "\n",
    "    print('Audio extraction finished. Audio file saved at {}'.format(audio_path))\n",
    "\n",
    "    video.close()\n",
    "    \n",
    "__video_to_audio(videopath, audiopath)"
   ],
   "outputs": []
  },
  {
   "cell_type": "markdown",
   "id": "3c2823c4453fe5af",
   "metadata": {},
   "source": [
    "Connect to Supabase"
   ]
  },
  {
   "cell_type": "markdown",
   "id": "352f97f4a8a85b3d",
   "metadata": {},
   "source": [
    "Connect to S3 bucket"
   ]
  },
  {
   "cell_type": "code",
   "execution_count": null,
   "id": "bddfe901f535fca3",
   "metadata": {},
   "source": [
    "import io\n",
    "videoname = 'raw.mp4'\n",
    "s3_path = '1/2/raw/{}'.format(videoname)"
   ],
   "outputs": []
  },
  {
   "cell_type": "code",
   "execution_count": null,
   "id": "3a409f9f3e51e804",
   "metadata": {},
   "source": [
    "video_bytes = supabase_connection.download(s3_path)"
   ],
   "outputs": []
  },
  {
   "cell_type": "code",
   "execution_count": null,
   "id": "6715276569a76bf8",
   "metadata": {},
   "source": [
    "print(type(video_bytes))\n",
    "print(len(video_bytes))"
   ],
   "outputs": []
  },
  {
   "cell_type": "code",
   "execution_count": null,
   "id": "45cb230b43de48bc",
   "metadata": {},
   "source": [
    "with open('../files/{}'.format(videoname), 'wb+') as f:\n",
    "    f.write(video_bytes)"
   ],
   "outputs": []
  },
  {
   "cell_type": "code",
   "execution_count": null,
   "id": "d4d2d953da982913",
   "metadata": {},
   "source": [
    "import time\n",
    "def __object_to_video(video_bytes):\n",
    "    # Step 1: Create a temporary file\n",
    "    with tempfile.NamedTemporaryFile(suffix='.mp4', delete=False) as temp_file:\n",
    "        temp_file_path = temp_file.name\n",
    "    \n",
    "        try:\n",
    "            # Step 2: Write the video_bytes to the temporary file\n",
    "            temp_file.write(video_bytes)\n",
    "        \n",
    "            # Step 3: Ensure data is written to disk\n",
    "            temp_file.flush()\n",
    "        \n",
    "            # Open the video from the temporary file\n",
    "            video = VideoFileClip(temp_file_path)\n",
    "        \n",
    "        finally:\n",
    "            temp_file.close()\n",
    "            video.close()\n",
    "            # Step 4: Clean up the temporary file after use\n",
    "            if os.path.exists(temp_file_path):\n",
    "                os.remove(temp_file_path)\n",
    "        \n",
    "    return video"
   ],
   "outputs": []
  },
  {
   "cell_type": "code",
   "execution_count": null,
   "id": "f8e7127eea630360",
   "metadata": {},
   "source": [
    "video = __object_to_video(video_bytes)\n",
    "print(video.duration)"
   ],
   "outputs": []
  },
  {
   "cell_type": "markdown",
   "id": "5b8f814b622c40ce",
   "metadata": {},
   "source": [
    "Split audio"
   ]
  },
  {
   "cell_type": "code",
   "execution_count": null,
   "id": "7451568ebc132a7b",
   "metadata": {},
   "source": [
    "def save_to_s3(filename: str, content: bytes, file_format: str, s3_subfolder: str = None) -> None:\n",
    "    match file_format:\n",
    "        case 'audio': content_type = 'audio/mpeg'\n",
    "        case 'video': content_type = 'video/mp4'\n",
    "        case 'text': content_type = 'text/plain'\n",
    "        case _: content_type = 'text/plain'\n",
    "\n",
    "    s3_path = '{}/{}/{}'.format(output_s3_folder, s3_subfolder, filename) if s3_subfolder else '{}/{}'.format(output_s3_folder, filename)\n",
    "    print('Upload file {} to {}'.format(filename, s3_path))\n",
    "    supabase_connection.upload(file=content,path=s3_path, file_options={\"content-type\": content_type})\n",
    "    print('File {} uploaded to S3 bucket'.format(filename))"
   ],
   "outputs": []
  },
  {
   "cell_type": "code",
   "execution_count": null,
   "id": "ac73744e4814f58d",
   "metadata": {},
   "source": [
    "def __multiple_split() -> None:\n",
    "    audio = AudioSegment.from_wav(audiopath)\n",
    "    print('Start splitting {}'.format(audiopath))\n",
    "    start = 2500\n",
    "    end = 12500\n",
    "    split_audio = audio[start:end]\n",
    "    #split_audio.export(outputpath, format=\"wav\")\n",
    "    save_to_s3(filename, split_audio.export(format='wav').read(), 'audio', '{}/audioparts'.format(current_speaker))\n",
    "    print('End splitting {}'.format(audiopath))\n",
    "    \n",
    "__multiple_split()"
   ],
   "outputs": []
  },
  {
   "cell_type": "code",
   "execution_count": null,
   "id": "98b2a681e786e80f",
   "metadata": {},
   "source": [
    "video = VideoFileClip(videopath)\n",
    "audio = video.audio\n",
    "audio.write_audiofile(audiopath)"
   ],
   "outputs": []
  },
  {
   "cell_type": "code",
   "execution_count": null,
   "id": "61e595980ac1e017",
   "metadata": {},
   "source": [
    "print(type(audio))"
   ],
   "outputs": []
  },
  {
   "cell_type": "code",
   "execution_count": null,
   "id": "a644bdbc8f675d71",
   "metadata": {},
   "source": [
    "import tempfile\n",
    "def audiofileclip_to_audiosegment(audio_clip):\n",
    "    # Step 1: Create a temporary file\n",
    "    with tempfile.NamedTemporaryFile(suffix='.wav', delete=False) as temp_file:\n",
    "        temp_file_path = temp_file.name\n",
    "    \n",
    "    try:\n",
    "        # Step 2: Export the AudioFileClip to the temporary file\n",
    "        audio_clip.write_audiofile(temp_file_path, codec='pcm_s16le')\n",
    "        \n",
    "        # Step 3: Read the temporary file with pydub\n",
    "        audio_segment = AudioSegment.from_file(temp_file_path, format=\"wav\")\n",
    "        \n",
    "    finally:\n",
    "        # Step 4: Clean up the temporary file\n",
    "        if os.path.exists(temp_file_path):\n",
    "            os.remove(temp_file_path)\n",
    "    \n",
    "    return audio_segment\n",
    "\n",
    "audio_segment = audiofileclip_to_audiosegment(audio)\n",
    "print(type(audio_segment))"
   ],
   "outputs": []
  },
  {
   "cell_type": "code",
   "execution_count": null,
   "id": "d447996a21c5b312",
   "metadata": {},
   "source": [
    "print(audio_tensor.shape)"
   ],
   "outputs": []
  },
  {
   "cell_type": "code",
   "execution_count": null,
   "id": "9b89f8deab605de9",
   "metadata": {},
   "source": [
    "print(type(audio))"
   ],
   "outputs": []
  },
  {
   "cell_type": "code",
   "execution_count": null,
   "id": "6467bc04699ff77",
   "metadata": {},
   "source": [
    "stt_model_id = 'openai/whisper-large-v3'\n",
    "stt_model = AutoModelForSpeechSeq2Seq.from_pretrained(stt_model_id)\n",
    "stt_processor = AutoProcessor.from_pretrained(stt_model_id)"
   ],
   "outputs": []
  },
  {
   "cell_type": "code",
   "execution_count": null,
   "id": "59aa8a1b74a06572",
   "metadata": {},
   "source": [
    "def audiosegment_to_tensor(audio_segment):\n",
    "    # Step 1: Extract raw audio data\n",
    "    raw_data = np.array(audio_segment.get_array_of_samples())\n",
    "    \n",
    "    # Step 2: Convert to NumPy array\n",
    "    if audio_segment.channels == 2:  # Stereo audio\n",
    "        raw_data = raw_data.reshape((-1, 2)).T.astype(np.float32)\n",
    "    else:  # Mono audio\n",
    "        raw_data = raw_data.astype(np.float32)\n",
    "    \n",
    "    # Normalize the audio data (optional)\n",
    "    # Convert the raw data to range [-1, 1]\n",
    "    if audio_segment.sample_width == 2:  # 16-bit audio\n",
    "        raw_data /= 32768.0\n",
    "    elif audio_segment.sample_width == 4:  # 32-bit audio\n",
    "        raw_data /= 2147483648.0\n",
    "    \n",
    "    # Step 3: Convert to Torch Tensor\n",
    "    audio_tensor = torch.from_numpy(raw_data)\n",
    "    \n",
    "    return audio_tensor, audio_segment.frame_rate"
   ],
   "outputs": []
  },
  {
   "cell_type": "markdown",
   "id": "f87a5f79dc0aaafe",
   "metadata": {},
   "source": [
    "TENSOR"
   ]
  },
  {
   "cell_type": "code",
   "execution_count": null,
   "id": "830cb18acc10684d",
   "metadata": {},
   "source": [
    "waveform, sampling_rate = torchaudio.load(audiopath)\n",
    "model_sampling_rate = stt_processor.feature_extractor.sampling_rate\n",
    "resampler = torchaudio.transforms.Resample(sampling_rate, model_sampling_rate)\n",
    "resampled_waveform = resampler(waveform).squeeze().numpy()\n",
    "\n",
    "input_features = stt_processor(resampled_waveform, sampling_rate=model_sampling_rate, return_tensors=\"pt\").input_features\n",
    "\n",
    "predicted_ids = stt_model.generate(input_features, language='french', task=\"transcribe\")\n",
    "\n",
    "transcription = stt_processor.batch_decode(predicted_ids, skip_special_tokens=True)\n",
    "\n",
    "print(transcription[0].strip())"
   ],
   "outputs": []
  },
  {
   "cell_type": "markdown",
   "id": "2c3ae1a75ba259e2",
   "metadata": {},
   "source": [
    "AudioSegment"
   ]
  },
  {
   "cell_type": "code",
   "execution_count": null,
   "id": "e94d057c6f182906",
   "metadata": {},
   "source": [
    "audio_segment = AudioSegment.from_wav(audiopath)\n",
    "waveform, sampling_rate = audiosegment_to_tensor(audio_segment)\n",
    "model_sampling_rate = stt_processor.feature_extractor.sampling_rate\n",
    "resampler = torchaudio.transforms.Resample(sampling_rate, model_sampling_rate)\n",
    "resampled_waveform = resampler(waveform).squeeze().numpy()\n",
    "\n",
    "input_features = stt_processor(resampled_waveform, sampling_rate=model_sampling_rate, return_tensors=\"pt\").input_features\n",
    "\n",
    "predicted_ids = stt_model.generate(input_features, language='french', task=\"transcribe\")\n",
    "\n",
    "transcription = stt_processor.batch_decode(predicted_ids, skip_special_tokens=True)\n",
    "\n",
    "print(transcription[0].strip())"
   ],
   "outputs": []
  },
  {
   "cell_type": "code",
   "execution_count": null,
   "id": "da1ae85a54badee1",
   "metadata": {},
   "source": [
    "waveform, sampling_rate = torchaudio.load(audiopath)\n",
    "audio_segment = AudioSegment.from_wav(audiopath)\n",
    "waveform_2, sampling_rate_2 = audiosegment_to_tensor(audio_segment)\n"
   ],
   "outputs": []
  },
  {
   "cell_type": "code",
   "execution_count": null,
   "id": "66810d414bce0f47",
   "metadata": {},
   "source": [
    "sampling_rate == sampling_rate_2"
   ],
   "outputs": []
  },
  {
   "cell_type": "code",
   "execution_count": null,
   "id": "9bedea7167c5def",
   "metadata": {},
   "source": [
    "waveform == waveform_2"
   ],
   "outputs": []
  },
  {
   "cell_type": "code",
   "execution_count": null,
   "id": "c979893d0a3686bd",
   "metadata": {},
   "source": [
    "from pyannote.audio import Pipeline as AudioPipeline\n",
    "diarization_model_id = 'pyannote/speaker-diarization-3.1'\n",
    "diarization_pipeline = AudioPipeline.from_pretrained(diarization_model_id,use_auth_token='')"
   ],
   "outputs": []
  },
  {
   "cell_type": "code",
   "execution_count": null,
   "id": "13e4db60900085fd",
   "metadata": {},
   "source": [
    "waveform, sampling_rate = torchaudio.load('../part_00000.wav')"
   ],
   "outputs": []
  },
  {
   "cell_type": "code",
   "execution_count": null,
   "id": "eb59912408b6d7a6",
   "metadata": {},
   "source": [
    "diarization = diarization_pipeline({\"waveform\": waveform, \"sample_rate\": sampling_rate}, num_speakers=2)"
   ],
   "outputs": []
  },
  {
   "cell_type": "code",
   "execution_count": null,
   "id": "f17e233efc904828",
   "metadata": {},
   "source": [
    "text = diarization.to_rttm()"
   ],
   "outputs": []
  },
  {
   "cell_type": "code",
   "execution_count": null,
   "id": "61da7462525fcf78",
   "metadata": {},
   "source": [
    "def save_to_s3(filename: str, content: str, file_format: str, s3_subfolder: str = None) -> bool:\n",
    "    match file_format:\n",
    "        case 'audio': content_type = 'audio/mpeg'\n",
    "        case 'video': content_type = 'video/mp4'\n",
    "        case 'text': content_type = 'text/plain'\n",
    "        case _: content_type = 'text/plain'\n",
    "\n",
    "    try:\n",
    "        s3_path = '{}/{}/{}'.format(output_s3_folder,\n",
    "                                    s3_subfolder,\n",
    "                                    filename) if s3_subfolder else '{}/{}'.format(output_s3_folder, filename)\n",
    "        supabase_connection.upload(file=content, path=s3_path, file_options={\"content-type\": content_type})\n",
    "        return True\n",
    "    except Exception as e:\n",
    "        message = ('Error uploading the file {} to the S3 bucket: {}'.\n",
    "                   format(filename, e.args[0]['message']))\n",
    "        return False"
   ],
   "outputs": []
  },
  {
   "cell_type": "code",
   "execution_count": null,
   "id": "a266142321ae52b",
   "metadata": {},
   "source": [
    "rttm_str = diarization.to_rttm().encode()"
   ],
   "outputs": []
  },
  {
   "cell_type": "code",
   "execution_count": null,
   "id": "bd08b31aeba92ed3",
   "metadata": {},
   "source": [
    "save_to_s3('diarization.rttm', rttm_str, 'text')"
   ],
   "outputs": []
  },
  {
   "cell_type": "code",
   "execution_count": null,
   "id": "fe0b1e002861bf70",
   "metadata": {},
   "source": [
    "storage_url = f\"{supabase_url}storage/v1/object/{supabase_bucket}/1/2/output/diarization.rttm\"\n",
    "storage_url"
   ],
   "outputs": []
  },
  {
   "cell_type": "code",
   "execution_count": null,
   "id": "334c141c30267007",
   "metadata": {},
   "source": [
    "headers = {\n",
    "        \"apikey\": supabase_key,\n",
    "        \"Authorization\": f\"Bearer {supabase_key}\",\n",
    "        \"Content-Type\": \"text/plain\"\n",
    "    }\n",
    "headers"
   ],
   "outputs": []
  },
  {
   "cell_type": "code",
   "execution_count": null,
   "id": "ccd10cfa51e336f6",
   "metadata": {},
   "source": [
    "import requests\n",
    "response = requests.put(storage_url, headers=headers, data=rttm_str)"
   ],
   "outputs": []
  },
  {
   "cell_type": "code",
   "execution_count": null,
   "id": "b5ec16af50eaa705",
   "metadata": {},
   "source": [
    "response.text"
   ],
   "outputs": []
  },
  {
   "cell_type": "code",
   "execution_count": null,
   "id": "743325e89537a582",
   "metadata": {},
   "source": [
    "s3_path = '1/2/output/speaker_000/audioparts'\n",
    "list = supabase_connection.list(s3_path)"
   ],
   "outputs": []
  },
  {
   "cell_type": "code",
   "execution_count": null,
   "id": "2eaa16b6a371b57a",
   "metadata": {},
   "source": [
    "for file in list:\n",
    "    filename = file['name']\n",
    "    if filename.split('.')[-1] == 'wav' and filename == 'part_00000.wav':\n",
    "        downloaded_file = supabase_connection.download('{}/{}'.format(s3_path, filename))"
   ],
   "outputs": []
  },
  {
   "cell_type": "code",
   "execution_count": null,
   "id": "1b15957b201bf566",
   "metadata": {},
   "source": [
    "with open('./part_0000.wav', 'wb+') as f:\n",
    "  f.write(downloaded_file)"
   ],
   "outputs": []
  },
  {
   "cell_type": "code",
   "execution_count": null,
   "id": "fbb7310dea0a8789",
   "metadata": {},
   "source": [
    "downloaded_file"
   ],
   "outputs": []
  },
  {
   "cell_type": "code",
   "execution_count": null,
   "id": "6ba02ce3ff493197",
   "metadata": {},
   "source": [
    "type(downloaded_file)"
   ],
   "outputs": []
  },
  {
   "cell_type": "code",
   "execution_count": null,
   "id": "e5d84ee6f6900a89",
   "metadata": {},
   "source": [
    "with tempfile.NamedTemporaryFile(suffix='.wav', delete=False) as temp_file:\n",
    "    temp_file_path = temp_file.name\n",
    "\n",
    "    try:\n",
    "    # Step 2: Export the AudioFileClip to the temporary file\n",
    "        temp_file.write(downloaded_file)\n",
    "    #downloaded_file.write_audiofile(temp_file_path, codec='pcm_s16le')\n",
    "    \n",
    "    # Step 3: Read the temporary file with torchaudio\n",
    "        waveform, sample_rate = torchaudio.load(temp_file_path)\n",
    "    finally:\n",
    "        temp_file.close()\n",
    "        # Step 4: Clean up the temporary file\n",
    "        if os.path.exists(temp_file_path):\n",
    "            os.remove(temp_file_path)"
   ],
   "outputs": []
  },
  {
   "cell_type": "code",
   "execution_count": null,
   "id": "7b11f47efbea0ffb",
   "metadata": {},
   "source": [
    "waveform"
   ],
   "outputs": []
  },
  {
   "cell_type": "code",
   "execution_count": null,
   "id": "5a516f6981d8d51",
   "metadata": {},
   "source": [
    "sample_rate"
   ],
   "outputs": []
  },
  {
   "cell_type": "code",
   "execution_count": null,
   "id": "8a7b4f1e4c3765c2",
   "metadata": {},
   "source": [
    "results_path = '../files/1/2/output/results_speaker_000.h5'\n",
    "audio = pd.read_hdf(results_path, key='audio')\n",
    "video = pd.read_hdf(results_path, key='video')\n",
    "texts = pd.read_hdf(results_path, key='text')\n",
    "\n",
    "all = pd.read_hdf(results_path, key='all')"
   ],
   "outputs": []
  },
  {
   "cell_type": "code",
   "execution_count": null,
   "id": "3c220be067f7e635",
   "metadata": {},
   "source": [],
   "outputs": []
  },
  {
   "cell_type": "code",
   "execution_count": null,
   "id": "20744dd3098a1cfa",
   "metadata": {},
   "source": [
    "with tempfile.NamedTemporaryFile(suffix='.h5', delete=False) as temp_file:\n",
    "    temp_file_path = temp_file.name\n",
    "    print(temp_file_path)\n",
    "    try:\n",
    "        # Write the file to the temporary file\n",
    "        with pd.HDFStore(temp_file_path) as store:\n",
    "            store.put('text', texts)\n",
    "            store.put('video', video)\n",
    "            store.put('audio', audio)\n",
    "            store.put('all', all)\n",
    "        \n",
    "        with open(temp_file_path, 'rb') as f:\n",
    "            try:\n",
    "                s3_path = '1/2/output/'\n",
    "                filename = 'results.h5'\n",
    "                response = supabase_connection.upload(file=f, path='{}/{}'.format(s3_path, filename), file_options={'content-type': 'application/octet-stream'})\n",
    "                print('File {} uploaded to S3 bucket at {}'.format(filename, s3_path))\n",
    "            except Exception as e:\n",
    "                message = ('Error uploading the file {} to the S3 bucket: {}'.format(filename, e.args[0]['message']))\n",
    "                print(message) \n",
    "    finally:\n",
    "        temp_file.close()\n",
    "        if os.path.exists(temp_file_path):\n",
    "                os.remove(temp_file_path)"
   ],
   "outputs": []
  },
  {
   "cell_type": "code",
   "execution_count": null,
   "id": "684fab39f806dec",
   "metadata": {},
   "source": [
    "path = '{}/texts.tmp'.format(s3_temp_path)\n",
    "path"
   ],
   "outputs": []
  },
  {
   "cell_type": "code",
   "execution_count": null,
   "id": "cfdece9d4e6c3b4b",
   "metadata": {},
   "source": [
    "def read_df_from_s3(filename) -> pd.DataFrame:\n",
    "    path = '{}/temp/{}.tmp'.format(output_s3_folder, filename)\n",
    "    with tempfile.NamedTemporaryFile(suffix='.h5', delete=False) as temp_file:\n",
    "        temp_file_path = temp_file.name\n",
    "        try:\n",
    "            res = supabase_connection.download(path)\n",
    "            temp_file.write(res)\n",
    "            df = pd.read_hdf(temp_file_path, key='data', index_col=None)\n",
    "        finally:\n",
    "            temp_file.close()\n",
    "            if os.path.exists(temp_file_path):\n",
    "                os.remove(temp_file_path)\n",
    "    return df"
   ],
   "outputs": []
  },
  {
   "cell_type": "code",
   "execution_count": null,
   "id": "92a7a2dbded2b165",
   "metadata": {},
   "source": [
    "text_results = read_df_from_s3('text_emotions')\n",
    "audio_results = read_df_from_s3('audio_emotions')\n",
    "video_results = read_df_from_s3('video_emotions')"
   ],
   "outputs": []
  },
  {
   "cell_type": "code",
   "execution_count": null,
   "id": "bcfc8d13dd068f70",
   "metadata": {},
   "source": [
    "results = pd.merge(text_results, audio_results, on=['speaker', 'part'], how='inner')"
   ],
   "outputs": []
  },
  {
   "cell_type": "code",
   "execution_count": null,
   "id": "c048b0dc69ffd576",
   "metadata": {},
   "source": [
    "results = pd.merge(results, video_results, on=['speaker', 'part'], how='inner')"
   ],
   "outputs": []
  },
  {
   "cell_type": "code",
   "execution_count": null,
   "id": "5dd14f3cb7fe5dd8",
   "metadata": {},
   "source": [
    "results"
   ],
   "outputs": []
  },
  {
   "cell_type": "code",
   "execution_count": null,
   "id": "eb4d19e4e27ca796",
   "metadata": {},
   "source": [
    "df = pd.read_hdf(res, key='data', index_col=None)\n",
    "print(df)"
   ],
   "outputs": []
  },
  {
   "cell_type": "code",
   "execution_count": null,
   "id": "51c5d600dfda1125",
   "metadata": {},
   "source": [
    "def save_to_s3(filename: str, content: Any, file_format: str, s3_subfolder: str = None) -> None:\n",
    "    match file_format:\n",
    "        case 'audio':\n",
    "            content_type = 'audio/mpeg'\n",
    "        case 'video':\n",
    "            content_type = 'video/mp4'\n",
    "        case 'text':\n",
    "            content_type = 'text/plain'\n",
    "        case _:\n",
    "            content_type = 'text/plain'\n",
    "\n",
    "    try:\n",
    "        s3_path = '{}/{}/{}'.format(output_s3_folder,\n",
    "                                    s3_subfolder,\n",
    "                                    filename) if s3_subfolder else '{}/{}'.format(output_s3_folder, filename)\n",
    "        supabase_connection.upload(file=content, path=s3_path, file_options={\"content-type\": content_type})\n",
    "        print('File {} uploaded to S3 bucket at {}'.format(filename, s3_path))\n",
    "    except Exception as e:\n",
    "        message = ('Error uploading the file {} to the S3 bucket.'.\n",
    "                   format(filename), str(e))\n",
    "        print(message)"
   ],
   "outputs": []
  },
  {
   "cell_type": "code",
   "execution_count": null,
   "id": "ba48a5dbb7f70a66",
   "metadata": {},
   "source": [
    "speakers_str = '{\"speaker_000\": [[0.30096875, 8.907218750000002], [41.391593750000006, 41.45909375], [55.44846875, 107.05221875000001], [118.10534375, 119.69159375000001], [120.78846875, 129.19221875], [129.90096875, 146.80971875]], \"speaker_001\": [[9.818468750000001, 46.994093750000005], [47.837843750000005, 55.44846875], [107.45721875000001, 117.76784375000001], [119.13471875, 120.78846875], [128.11221875, 130.54221875000002]]}'\n",
    "speakers_str"
   ],
   "outputs": []
  },
  {
   "cell_type": "code",
   "execution_count": null,
   "id": "d54b472fcd30b99d",
   "metadata": {},
   "source": [
    "save_to_s3('speakers.json', speakers_str.encode(), 'text', 'temp')"
   ],
   "outputs": []
  },
  {
   "cell_type": "code",
   "execution_count": null,
   "id": "35a1f9a9404d9336",
   "metadata": {},
   "source": [
    "speakers_path = '{}/temp/speakers.json'.format(output_s3_folder)\n",
    "res = supabase_connection.download(speakers_path)"
   ],
   "outputs": []
  },
  {
   "cell_type": "code",
   "execution_count": null,
   "id": "a4897cbdb8c70ec9",
   "metadata": {},
   "source": [
    "json.loads(res.decode())"
   ],
   "outputs": []
  },
  {
   "cell_type": "code",
   "execution_count": null,
   "id": "de2abe9709c1646f",
   "metadata": {},
   "source": [
    "speak = json.loads(res)\n",
    "my_list = list(speak.keys())"
   ],
   "outputs": []
  },
  {
   "cell_type": "code",
   "execution_count": null,
   "id": "ecf9441fade1618a",
   "metadata": {},
   "source": [
    "my_list"
   ],
   "outputs": []
  },
  {
   "cell_type": "code",
   "execution_count": null,
   "id": "bd1b6a0680e96df9",
   "metadata": {},
   "source": [
    "str = '{\"speaker_000\": [[0.30096875, 8.907218750000002], [41.391593750000006, 41.45909375], [55.44846875, 107.05221875000001], [118.10534375, 119.69159375000001], [120.78846875, 129.19221875], [129.90096875, 146.80971875]], \"speaker_001\": [[9.818468750000001, 46.994093750000005], [47.837843750000005, 55.44846875], [107.45721875000001, 117.76784375000001], [119.13471875, 120.78846875], [128.11221875, 130.54221875000002]]}'\n",
    "json.loads(str)"
   ],
   "outputs": []
  },
  {
   "cell_type": "code",
   "execution_count": null,
   "id": "bdde09ebd38d498d",
   "metadata": {},
   "source": "supabase_secret_key = ''",
   "outputs": []
  },
  {
   "cell_type": "code",
   "execution_count": null,
   "id": "157e18b3b85caee4",
   "metadata": {},
   "source": [
    "supabase: Client = create_client(supabase_url, supabase_key)"
   ],
   "outputs": []
  },
  {
   "cell_type": "code",
   "execution_count": null,
   "id": "9ef70994df1ccc9b",
   "metadata": {},
   "source": [
    "def fetch_all_records(table_name: str):\n",
    "    try:\n",
    "        # Fetch all records from the specified table\n",
    "        response = supabase.table(table_name).select('first_name').execute()\n",
    "        \n",
    "        # Check if the request was successful\n",
    "        if response.get('error'):\n",
    "            print(\"Error:\", response['error'])\n",
    "        else:\n",
    "            # Access the data\n",
    "            data = response['data']\n",
    "            print(f\"Data from {table_name}:\", json.dumps(data, indent=2))\n",
    "    except Exception as e:\n",
    "        print(\"An error occurred:\", e)"
   ],
   "outputs": []
  },
  {
   "cell_type": "code",
   "execution_count": null,
   "id": "2ae7746c97b6f763",
   "metadata": {},
   "source": [
    "fetch_all_records('sessions')"
   ],
   "outputs": []
  },
  {
   "cell_type": "code",
   "execution_count": null,
   "id": "e26221ca08cbc4fd",
   "metadata": {},
   "source": [
    "response = supabase.table('interviews').select(\"*\").execute()"
   ],
   "outputs": []
  },
  {
   "cell_type": "code",
   "execution_count": null,
   "id": "b89f6a5e5803aa6f",
   "metadata": {},
   "source": [
    "response"
   ],
   "outputs": []
  },
  {
   "cell_type": "code",
   "execution_count": null,
   "id": "9ec5619b28a703e6",
   "metadata": {},
   "source": [
    "path = '1/2/output_old/temp'\n",
    "for file in supabase_connection.list(path):\n",
    "    filepath = '{}/{}'.format(path, file['name'])\n",
    "    supabase_connection.remove(filepath)\n",
    "supabase_connection.remove(path)"
   ],
   "outputs": []
  },
  {
   "cell_type": "code",
   "execution_count": null,
   "id": "39ea5971156a2e87",
   "metadata": {},
   "source": [
    "path = '1/2/output_old/temp/'\n",
    "supabase_connection.remove(path)"
   ],
   "outputs": []
  },
  {
   "cell_type": "code",
   "execution_count": null,
   "id": "291e221c07392f02",
   "metadata": {},
   "source": [
    "supabase_connection.list()"
   ],
   "outputs": []
  },
  {
   "cell_type": "code",
   "execution_count": null,
   "id": "36c4908121e30e33",
   "metadata": {},
   "source": [
    "champ_name = 'text_ok'\n",
    "try:\n",
    "    ((supabase.table('interviews').update({champ_name: False})).eq('id', 2)).execute()\n",
    "    print(\"Record updated successfully\")\n",
    "except Exception as e:\n",
    "    message = ('Error updating {} in the database'.format(champ_name), str(e))\n",
    "    print(\"Failed to update the record:\", message)"
   ],
   "outputs": []
  },
  {
   "cell_type": "code",
   "execution_count": null,
   "id": "bfadec335c550887",
   "metadata": {},
   "source": [
    "response.get('error')"
   ],
   "outputs": []
  },
  {
   "cell_type": "code",
   "execution_count": null,
   "id": "c3949e35f9c811d6",
   "metadata": {},
   "source": [
    "text_results, audio_results, video_results = False, False, False"
   ],
   "outputs": []
  },
  {
   "cell_type": "code",
   "execution_count": null,
   "id": "9a009b585940a3ad",
   "metadata": {},
   "source": [
    "import concurrent.futures\n",
    "\n",
    "def method1():\n",
    "    # Simulate work\n",
    "    print(\"Method 1 started\")\n",
    "    # Add your method logic here\n",
    "    return \"Result of method 1\"\n",
    "\n",
    "def method2():\n",
    "    # Simulate work\n",
    "    print(\"Method 2 started\")\n",
    "    # Add your method logic here\n",
    "    return \"Result of method 2\"\n",
    "\n",
    "def method3():\n",
    "    # Simulate work\n",
    "    print(\"Method 3 started\")\n",
    "    # Add your method logic here\n",
    "    return \"Result of method 3\"\n",
    "\n",
    "def final_method(results):\n",
    "    print(\"Final method started\")\n",
    "    # Do something with the results\n",
    "    print(\"Results:\", results)\n",
    "    # Add your final method logic here"
   ],
   "outputs": []
  },
  {
   "cell_type": "code",
   "execution_count": null,
   "id": "8c8fd9365673045",
   "metadata": {},
   "source": [
    "with concurrent.futures.ThreadPoolExecutor() as executor:\n",
    "    # Submit the three methods to be executed concurrently\n",
    "    future1 = executor.submit(method1)\n",
    "    future2 = executor.submit(method2)\n",
    "    future3 = executor.submit(method3)\n",
    "    \n",
    "    # Wait for all methods to complete and get their results\n",
    "    results = [future.result() for future in concurrent.futures.as_completed([future1, future2, future3])]\n",
    "    \n",
    "    # Call the final method with the results\n",
    "    final_method(results)"
   ],
   "outputs": []
  },
  {
   "cell_type": "code",
   "execution_count": null,
   "id": "65a1123d3a5d6548",
   "metadata": {},
   "source": [
    "type(results)"
   ],
   "outputs": []
  },
  {
   "cell_type": "code",
   "execution_count": null,
   "id": "91753c91",
   "metadata": {},
   "source": [],
   "outputs": []
  },
  {
   "cell_type": "code",
   "execution_count": 47,
   "id": "aa0ca9b2bf34dc4",
   "metadata": {},
   "source": [
    "def __analyse_text():\n",
    "    return {'text': True}\n",
    "\n",
    "def __analyse_audio():\n",
    "    raise Exception(\"Error in video analysis\")\n",
    "    #return {'audio': True}\n",
    "\n",
    "def __analyse_video():\n",
    "    raise Exception(\"Error in video analysis\")\n",
    "    #return {'video': False}"
   ],
   "outputs": []
  },
  {
   "cell_type": "code",
   "execution_count": 48,
   "id": "6cf81b44f84edcd2",
   "metadata": {},
   "source": [
    "def merge_results(results):\n",
    "    text = [d['text'] for d in results if 'text' in d][0]\n",
    "    audio = [d['audio'] for d in results if 'audio' in d][0]\n",
    "    video = [d['video'] for d in results if 'video' in d][0]\n",
    "    \n",
    "    print(\"Results:\")\n",
    "    print(\"Text:\", text)\n",
    "    print(\"Audio:\", audio)\n",
    "    print(\"Video:\", video)"
   ],
   "outputs": []
  },
  {
   "cell_type": "code",
   "execution_count": 51,
   "id": "8d892aaf8eeee798",
   "metadata": {},
   "source": [
    "all_results = []\n",
    "with concurrent.futures.ThreadPoolExecutor() as executor:\n",
    "    text_results = executor.submit(__analyse_text)\n",
    "    audio_results = executor.submit(__analyse_audio)\n",
    "    video_results = executor.submit(__analyse_video)\n",
    "\n",
    "for future in concurrent.futures.as_completed([text_results, audio_results, video_results]):\n",
    "    try:\n",
    "        result = future.result()\n",
    "        all_results.append(result)\n",
    "    except Exception as e:\n",
    "        print('An error occurred: {}'.format(e))\n",
    "\n",
    "    \n",
    "#results = [analysis.result() for analysis in concurrent.futures.as_completed([text_results, audio_results, video_results])]"
   ],
   "outputs": []
  },
  {
   "cell_type": "code",
   "execution_count": 50,
   "id": "682ec9c3298cc965",
   "metadata": {},
   "source": [
    "results\n"
   ],
   "outputs": []
  },
  {
   "cell_type": "code",
   "execution_count": 34,
   "id": "e07f24d1",
   "metadata": {},
   "source": [
    "merge_results(results)"
   ],
   "outputs": []
  },
  {
   "cell_type": "code",
   "execution_count": 35,
   "id": "ae066eeb3394598d",
   "metadata": {},
   "source": [
    "text = [d['text'] for d in results if 'text' in d][0]\n",
    "audio = [d['audio'] for d in results if 'audio' in d][0]\n",
    "video = [d['video'] for d in results if 'video' in d][0]"
   ],
   "outputs": []
  },
  {
   "cell_type": "code",
   "execution_count": 36,
   "id": "51da4fcadefcf5ec",
   "metadata": {},
   "source": [
    "text"
   ],
   "outputs": []
  }
 ],
 "metadata": {
  "kernelspec": {
   "display_name": "Python 3",
   "language": "python",
   "name": "python3"
  },
  "language_info": {
   "codemirror_mode": {
    "name": "ipython",
    "version": 2
   },
   "file_extension": ".py",
   "mimetype": "text/x-python",
   "name": "python",
   "nbconvert_exporter": "python",
   "pygments_lexer": "ipython2",
   "version": "2.7.6"
  }
 },
 "nbformat": 4,
 "nbformat_minor": 5
}
