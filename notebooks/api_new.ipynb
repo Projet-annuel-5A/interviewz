{
 "cells": [
  {
   "cell_type": "code",
   "execution_count": null,
   "id": "5755cf0ba496568e",
   "metadata": {},
   "outputs": [],
   "source": [
    "import os\n",
    "import requests\n",
    "import tempfile\n",
    "import pandas as pd\n",
    "from dotenv import load_dotenv\n",
    "from supabase import create_client, Client\n",
    "from moviepy.editor import VideoFileClip, AudioFileClip"
   ]
  },
  {
   "cell_type": "code",
   "execution_count": null,
   "id": "d1f671b8",
   "metadata": {},
   "outputs": [],
   "source": [
    "load_dotenv()"
   ]
  },
  {
   "cell_type": "markdown",
   "id": "0bed6ecb",
   "metadata": {},
   "source": [
    "CONFIG VARIABLES"
   ]
  },
  {
   "cell_type": "code",
   "execution_count": null,
   "id": "f09c9e09",
   "metadata": {},
   "outputs": [],
   "source": [
    "session_id = 14\n",
    "interview_id = 31\n",
    "bucket_name = 'interviews'\n",
    "\n",
    "supabase_client = create_client('https://kglmfklezrjwfvtcolgb.supabase.co', os.environ.get('SUPABASE_KEY'))\n",
    "supabase: Client = create_client('https://kglmfklezrjwfvtcolgb.supabase.co', os.environ.get('SUPABASE_KEY'))\n",
    "supabase_connection = supabase_client.storage.from_('interviews')\n",
    "\n",
    "DIARIZATION_API_URL = 'https://transcribe.whisperapi.com'\n",
    "STT_API_URL = 'https://api.lemonfox.ai/v1/audio/transcriptions'\n",
    "\n",
    "headers = {\n",
    "  'Authorization': 'Bearer {}'.format(os.environ.get('WHISPER_API_KEY'))\n",
    "}"
   ]
  },
  {
   "cell_type": "markdown",
   "id": "1524ef1a",
   "metadata": {},
   "source": [
    "Current method save_results_to_bd"
   ]
  },
  {
   "cell_type": "code",
   "execution_count": null,
   "id": "87425a07",
   "metadata": {},
   "outputs": [],
   "source": [
    "def save_results_to_bd(results: pd.DataFrame) -> None:\n",
    "    try:\n",
    "        response = supabase.table('interviews').select('user_id').eq('id', interview_id).execute()\n",
    "        user_id = response.data[0]['user_id']\n",
    "\n",
    "        results['interview_id'] = interview_id\n",
    "        results['user_id'] = user_id\n",
    "        results = results.fillna('')\n",
    "\n",
    "        data_to_insert = results.to_dict(orient='records')\n",
    "\n",
    "        response = supabase.table('results').insert(data_to_insert).execute()\n",
    "        print('{} lines saved to the database successfully'. format(len(response.data)))\n",
    "    except Exception as e:\n",
    "        print('Error saving results to the database', str(e))"
   ]
  },
  {
   "cell_type": "markdown",
   "id": "54df2dcc",
   "metadata": {},
   "source": [
    "Current method save df to bd"
   ]
  },
  {
   "cell_type": "code",
   "execution_count": null,
   "id": "97d579b1",
   "metadata": {},
   "outputs": [],
   "source": [
    "def save_results_to_bd(results: pd.DataFrame) -> None:\n",
    "    try:\n",
    "        response = supabase.table('interviews').select('user_id').eq('id', interview_id).execute()\n",
    "        user_id = response.data[0]['user_id']\n",
    "\n",
    "        results['interview_id'] = interview_id\n",
    "        results['user_id'] = user_id\n",
    "        results = results.fillna('')\n",
    "\n",
    "        data_to_insert = results.to_dict(orient='records')\n",
    "\n",
    "        response = supabase.table('results').insert(data_to_insert).execute()\n",
    "        print('{} lines saved to the database successfully'. format(len(response.data)))\n",
    "    except Exception as e:\n",
    "        print('Error saving results to the database', str(e))"
   ]
  },
  {
   "cell_type": "markdown",
   "id": "29904869",
   "metadata": {},
   "source": [
    "Current method open_input_file (to modify)"
   ]
  },
  {
   "cell_type": "code",
   "execution_count": null,
   "id": "faf1fdde",
   "metadata": {},
   "outputs": [],
   "source": [
    "def video_to_audio(video_name: str):\n",
    "    s3_path = '{}/{}/raw/{}'.format(session_id, interview_id, video_name)\n",
    "    \n",
    "    video_bytes = supabase_connection.download(s3_path)\n",
    "    with tempfile.NamedTemporaryFile(suffix='.mp4', delete=False) as video_file:\n",
    "        video_path = video_file.name\n",
    "        try:\n",
    "            video_file.write(video_bytes)\n",
    "            video_file.flush()\n",
    "            video_file.close()\n",
    "            \n",
    "            video_clip = VideoFileClip(video_path)\n",
    "            audio = video_clip.audio\n",
    "            \n",
    "            with tempfile.NamedTemporaryFile(suffix='.wav', delete=False) as audio_file:\n",
    "                audio_path = audio_file.name\n",
    "                try:\n",
    "                    audio.write_audiofile(audio_path, codec='pcm_s16le')\n",
    "                except Exception as e:\n",
    "                    raise e\n",
    "                finally:\n",
    "                    audio_file.close()\n",
    "        finally:\n",
    "            video_clip.close()\n",
    "            os.remove(video_path)\n",
    "    return audio_path"
   ]
  },
  {
   "cell_type": "code",
   "execution_count": null,
   "id": "190adc5a",
   "metadata": {},
   "outputs": [],
   "source": [
    "audio_path = video_to_audio('raw.mp4')"
   ]
  },
  {
   "cell_type": "code",
   "execution_count": null,
   "id": "d297d109",
   "metadata": {},
   "outputs": [],
   "source": [
    "def diarize(audio_path: str) -> pd.DataFrame:\n",
    "    file = {'file': open(audio_path, 'rb')}\n",
    "    data = {'fileType': 'wav',\n",
    "            'diarization': 'true',\n",
    "            'numSpeakers': '2',\n",
    "            'language': 'fr',\n",
    "            'task': 'transcribe'\n",
    "            }\n",
    "    response = requests.post(DIARIZATION_API_URL, headers=headers, data=data, files=file)\n",
    "    df = pd.DataFrame(response.json()['diarization'])\n",
    "    df.rename(columns={'startTime': 'start', 'stopTime': 'end'}, inplace=True)\n",
    "    return df"
   ]
  },
  {
   "cell_type": "code",
   "execution_count": null,
   "id": "b3c6ce30",
   "metadata": {},
   "outputs": [],
   "source": [
    "def speech_to_text(audio_path: str, diarization: pd.DataFrame) -> pd.DataFrame:\n",
    "    \n",
    "    audio = AudioFileClip(audio_path)\n",
    "    results = pd.DataFrame(columns=['start', 'end', 'speaker', 'interview_id', 'user_id', 'text', 'filepath']) \n",
    "    \n",
    "    for i, row in diarization.iterrows():\n",
    "        audio_segment = audio.subclip(row.start, row.end)\n",
    "        \n",
    "        with tempfile.NamedTemporaryFile(suffix='.wav', delete=False) as audio_clip_file:\n",
    "            audio_clip_path = audio_clip_file.name\n",
    "            try:\n",
    "                audio_segment.write_audiofile(audio_clip_path, codec='pcm_s16le')\n",
    "                \n",
    "                \n",
    "                data = {'language': 'fr',\n",
    "                        'response_format': 'text'\n",
    "                    }\n",
    "                file = {'file': open(audio_clip_path, 'rb')}\n",
    "                \n",
    "                response = requests.post(STT_API_URL, headers=headers, files=file, data=data)\n",
    "                if response.status_code == 200:\n",
    "                    results = pd.concat([results, pd.DataFrame([row.to_dict()])], ignore_index=True)\n",
    "                    idx = results.index[-1]\n",
    "                    results.at[idx, 'filepath'] = audio_clip_path\n",
    "                    results.at[idx, 'text'] = response.json()\n",
    "                    \n",
    "            except Exception as e:\n",
    "                raise e\n",
    "            finally:\n",
    "                audio_clip_file.close()\n",
    "                \n",
    "    return results"
   ]
  },
  {
   "cell_type": "code",
   "execution_count": null,
   "id": "a40f526b",
   "metadata": {},
   "outputs": [],
   "source": [
    "df = diarize(audio_path)\n",
    "\n",
    "df_full = speech_to_text(audio_path, df)\n",
    "df_full['speaker'] = df_full['speaker'].map(lambda x: int(x.split('_')[1]))"
   ]
  },
  {
   "cell_type": "code",
   "execution_count": null,
   "id": "7b6a6976",
   "metadata": {},
   "outputs": [],
   "source": [
    "df_final = df_full.drop(columns=['filepath'])\n",
    "df_final['start'] = df_final['start'] * 1000\n",
    "df_final['end'] = df_final['end'] * 1000\n",
    "save_results_to_bd(df_final)"
   ]
  }
 ],
 "metadata": {
  "kernelspec": {
   "display_name": "Python 3",
   "language": "python",
   "name": "python3"
  },
  "language_info": {
   "codemirror_mode": {
    "name": "ipython",
    "version": 3
   },
   "file_extension": ".py",
   "mimetype": "text/x-python",
   "name": "python",
   "nbconvert_exporter": "python",
   "pygments_lexer": "ipython3",
   "version": "3.11.8"
  }
 },
 "nbformat": 4,
 "nbformat_minor": 5
}
