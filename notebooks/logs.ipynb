{
 "cells": [
  {
   "metadata": {
    "ExecuteTime": {
     "end_time": "2024-05-12T18:35:02.035548Z",
     "start_time": "2024-05-12T18:35:02.024546Z"
    }
   },
   "cell_type": "code",
   "source": [
    "import os\n",
    "import sys\n",
    "import logging\n",
    "from datetime import datetime"
   ],
   "id": "5a8be0046b91f1c3",
   "execution_count": 1,
   "outputs": []
  },
  {
   "cell_type": "code",
   "id": "initial_id",
   "metadata": {
    "collapsed": true,
    "ExecuteTime": {
     "end_time": "2024-05-12T18:35:03.483839Z",
     "start_time": "2024-05-12T18:35:03.467847Z"
    }
   },
   "source": [
    "def __init_logs(filename: str) -> logging.Logger:\n",
    "\n",
    "    # Configure basic logging settings\n",
    "    formatter = '[%(asctime)s] %(levelname)s [%(name)s.%(funcName)s:%(lineno)d] %(message)s'\n",
    "    date_format = '%d/%b/%Y %H:%M:%S'\n",
    "    encoding = 'utf-8'\n",
    "    logging.basicConfig(\n",
    "        level=logging.NOTSET,\n",
    "        #format=formatter,datefmt=date_format,encoding=encoding\n",
    "    )\n",
    "\n",
    "    # Create a file handler for INFO messages\n",
    "    info_log_name = os.path.join('log', 'test_info_{}_{}'.format(datetime.now().strftime('%Y_%m_%d_%H.%M.%S'),\n",
    "                                                             filename.split('.')[0]))\n",
    "    info_handler = logging.FileHandler(info_log_name)\n",
    "    info_handler.setLevel(logging.INFO)\n",
    "    info_handler.setFormatter(logging.Formatter(formatter))\n",
    "\n",
    "    # Create a file handler for ERROR messages\n",
    "    error_log_name = os.path.join('log', 'test_error_{}_{}'.format(datetime.now().strftime('%Y_%m_%d_%H.%M.%S'),\n",
    "                                                               filename.split('.')[0]))\n",
    "    error_handler = logging.FileHandler(error_log_name)\n",
    "    error_handler.setLevel(logging.ERROR)\n",
    "    error_handler.setFormatter(logging.Formatter(formatter))\n",
    "\n",
    "    # Add the handlers to the root logger\n",
    "    root_logger = logging.getLogger(__name__)\n",
    "    root_logger.handlers.clear()\n",
    "    root_logger.addHandler(info_handler)\n",
    "    root_logger.addHandler(error_handler)\n",
    "    root_logger.propagate = False\n",
    "    \n",
    "    '''\n",
    "    info_log = logging.getLogger('info_log')\n",
    "    info_log.setLevel(logging.INFO)\n",
    "    info_log.addHandler(info_handler)\n",
    "    info_log.datefmt = date_format\n",
    "    info_log.encoding = encoding\n",
    "\n",
    "    error_log = logging.getLogger('error_log')\n",
    "    error_log.setLevel(logging.ERROR)\n",
    "    error_log.addHandler(error_handler)\n",
    "    error_log.datefmt = date_format\n",
    "    error_log.encoding = encoding\n",
    "    '''\n",
    "\n",
    "    return root_logger"
   ],
   "execution_count": 2,
   "outputs": []
  },
  {
   "metadata": {
    "ExecuteTime": {
     "end_time": "2024-05-12T18:35:13.416037Z",
     "start_time": "2024-05-12T18:35:13.401029Z"
    }
   },
   "cell_type": "code",
   "source": [
    "filename = 'test.mp4' \n",
    "log = __init_logs(filename)"
   ],
   "id": "327c607d7cdd2080",
   "execution_count": 3,
   "outputs": []
  },
  {
   "metadata": {
    "ExecuteTime": {
     "end_time": "2024-05-12T18:35:15.290013Z",
     "start_time": "2024-05-12T18:35:15.278005Z"
    }
   },
   "cell_type": "code",
   "source": "log.info('This is an info message')",
   "id": "287d4091e06b9ddc",
   "execution_count": 4,
   "outputs": []
  },
  {
   "metadata": {
    "ExecuteTime": {
     "end_time": "2024-05-12T18:35:16.953365Z",
     "start_time": "2024-05-12T18:35:16.935591Z"
    }
   },
   "cell_type": "code",
   "source": "log.error('This is an error message')",
   "id": "a755a21498d46272",
   "execution_count": 5,
   "outputs": []
  },
  {
   "metadata": {},
   "cell_type": "code",
   "execution_count": null,
   "source": "sys.stderr = LoggerWriter(self.error_log, logging.ERROR)",
   "id": "b18ca68e1cc3b16",
   "outputs": []
  },
  {
   "metadata": {
    "ExecuteTime": {
     "end_time": "2024-05-12T18:37:52.188348Z",
     "start_time": "2024-05-12T18:37:52.177349Z"
    }
   },
   "cell_type": "code",
   "source": "original_log_handlers = logging.getLogger().handlers[:]",
   "id": "dd2b3c9afc88e0e5",
   "execution_count": 10,
   "outputs": []
  },
  {
   "metadata": {
    "ExecuteTime": {
     "end_time": "2024-05-20T00:08:27.914267Z",
     "start_time": "2024-05-20T00:08:27.911360Z"
    }
   },
   "cell_type": "code",
   "source": [
    "try:\n",
    "    with open('./file.txt', 'r') as file:\n",
    "        print(file.read())\n",
    "except BaseException as e:\n",
    "    print('Failed to do something: ', str(e))"
   ],
   "id": "381dfe152b55bc17",
   "execution_count": 8,
   "outputs": []
  }
 ],
 "metadata": {
  "kernelspec": {
   "display_name": "Python 3",
   "language": "python",
   "name": "python3"
  },
  "language_info": {
   "codemirror_mode": {
    "name": "ipython",
    "version": 2
   },
   "file_extension": ".py",
   "mimetype": "text/x-python",
   "name": "python",
   "nbconvert_exporter": "python",
   "pygments_lexer": "ipython2",
   "version": "2.7.6"
  }
 },
 "nbformat": 4,
 "nbformat_minor": 5
}
